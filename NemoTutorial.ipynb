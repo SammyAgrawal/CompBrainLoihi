{
 "cells": [
  {
   "cell_type": "markdown",
   "id": "c3c93ff7-6e8b-4b6a-8012-f84f580c8a3d",
   "metadata": {},
   "source": [
    "## Nemo Assembly Calculus\n",
    "\n",
    "Github Repo [link](https://github.com/dmitropolsky/assemblies)"
   ]
  },
  {
   "cell_type": "code",
   "execution_count": 80,
   "id": "833fee26-6e36-47cb-9393-3e06923aa516",
   "metadata": {},
   "outputs": [],
   "source": [
    "import numpy as np\n",
    "import heapq\n",
    "import matplotlib.pyplot as plt\n",
    "import collections\n",
    "from scipy.stats import binom\n",
    "from scipy.stats import truncnorm\n",
    "from scipy.stats import norm\n",
    "import math\n",
    "import types\n",
    "import sys\n",
    "sys.path.append('/Users/samart/Desktop/Neuro/SNNs/assemblies')\n",
    "# Configurable assembly model for simulations\n",
    "# Author Daniel Mitropolsky, 2018\n",
    "\n",
    "EMPTY_MAPPING = types.MappingProxyType({})"
   ]
  },
  {
   "cell_type": "code",
   "execution_count": null,
   "id": "0ce8a112-ce81-4d7b-a9da-65340fc24c21",
   "metadata": {},
   "outputs": [],
   "source": []
  },
  {
   "cell_type": "markdown",
   "id": "37ecadda-a5b5-41db-8557-af2d073e87fe",
   "metadata": {},
   "source": [
    "# Iterating Core Components"
   ]
  },
  {
   "cell_type": "code",
   "execution_count": 81,
   "id": "266a8df3-25ed-4194-8074-26009b61aaa4",
   "metadata": {},
   "outputs": [],
   "source": [
    "import brain"
   ]
  },
  {
   "cell_type": "code",
   "execution_count": 69,
   "id": "e58021aa-1b22-4d27-996a-880ee20c7437",
   "metadata": {},
   "outputs": [],
   "source": [
    "N = 100\n",
    "k = 10\n",
    "\n",
    "p = 0.1\n",
    "beta = 0.05"
   ]
  },
  {
   "cell_type": "markdown",
   "id": "b096d708-1259-497a-ba17-a04fb8f0a1e1",
   "metadata": {},
   "source": [
    "### Brain Areas\n",
    "\n",
    "- Core Object of NEMO is a named area, N neurons with $G_{n,p}$ connectivity (independent probability p of directed pairwise connection)\n",
    "- Explicit makes us actually simulate everything while False makes us lazy evaluate\n",
    "\n"
   ]
  },
  {
   "cell_type": "code",
   "execution_count": 75,
   "id": "49126f23-e88f-4686-8573-2376d2a976ce",
   "metadata": {},
   "outputs": [],
   "source": [
    "area = brain.Area(name = 'A', n=N, k=k, beta=beta, explicit=True)"
   ]
  },
  {
   "cell_type": "markdown",
   "id": "b1606957-f995-4ed6-a21c-eea273c82764",
   "metadata": {},
   "source": [
    "Can access all the core components of area; mostly a container class without much \"action\" to it"
   ]
  },
  {
   "cell_type": "code",
   "execution_count": 76,
   "id": "0a372638-ed7e-4890-854f-35afc46b9ee0",
   "metadata": {},
   "outputs": [
    {
     "data": {
      "text/plain": [
       "('A', 100, 10, 0.05, True)"
      ]
     },
     "execution_count": 76,
     "metadata": {},
     "output_type": "execute_result"
    }
   ],
   "source": [
    "area.name, area.n, area.k, area.beta, area.explicit"
   ]
  },
  {
   "cell_type": "markdown",
   "id": "70d60f3c-df4b-4241-8349-6f18186c202c",
   "metadata": {},
   "source": [
    "Can selectively have different update weights for different neighboring areas or stimuli"
   ]
  },
  {
   "cell_type": "code",
   "execution_count": 74,
   "id": "740d922a-8294-4e1b-819f-1ee7405c6e69",
   "metadata": {},
   "outputs": [
    {
     "data": {
      "text/plain": [
       "({}, {})"
      ]
     },
     "execution_count": 74,
     "metadata": {},
     "output_type": "execute_result"
    }
   ],
   "source": [
    "area.beta_by_stimulus, area.beta_by_area"
   ]
  },
  {
   "cell_type": "markdown",
   "id": "512ec703-92cc-4e97-83c3-d05a48446689",
   "metadata": {},
   "source": [
    "- Each area stores the k top winners that fired in the most recent timestep in area.winners\n",
    "- Stores the history of all previous fired winners in area.saved_winners\n",
    "- Analogous for w and saved_w; these"
   ]
  },
  {
   "cell_type": "code",
   "execution_count": 77,
   "id": "7e7956f8-6b82-42df-8152-40d87e7c66e9",
   "metadata": {},
   "outputs": [
    {
     "data": {
      "text/plain": [
       "(0, [], [], [])"
      ]
     },
     "execution_count": 77,
     "metadata": {},
     "output_type": "execute_result"
    }
   ],
   "source": [
    "area.w, area.winners, area.saved_winners, area.saved_winners"
   ]
  },
  {
   "cell_type": "markdown",
   "id": "d74faa7d-7b26-4a13-bb08-2527b8b9c783",
   "metadata": {},
   "source": [
    "### Constructing Brain Area Graph\n",
    "\n",
    "The critical object is the Brain, which is basically a Graph of connected areas and stimuli (which are distinct). \n",
    "- brain tracks all the associated areas and stimuli in dictionaries (keys are names of each)\n",
    "- tracks edges/ connections in connectomes dictionaries, basically adjacency list format\n",
    "    - connections are made between any two neurons in areas with brain_probability p (set to same p as above but in principle could be different)\n",
    "-  "
   ]
  },
  {
   "cell_type": "code",
   "execution_count": 110,
   "id": "9df79211-6c0c-4c7b-87f1-d347f673bf0e",
   "metadata": {},
   "outputs": [],
   "source": [
    "n = 10\n",
    "k = 2\n",
    "p = 0.5\n",
    "beta = 0.05\n",
    "t = 10"
   ]
  },
  {
   "cell_type": "code",
   "execution_count": 111,
   "id": "9698adc6-dd62-4a74-b8e9-e7aa853ec03f",
   "metadata": {},
   "outputs": [
    {
     "data": {
      "text/plain": [
       "<brain.Brain at 0x11126a690>"
      ]
     },
     "execution_count": 111,
     "metadata": {},
     "output_type": "execute_result"
    }
   ],
   "source": [
    "B = brain.Brain(p=p, save_size=True, save_winners=True, seed=10)\n",
    "B"
   ]
  },
  {
   "cell_type": "code",
   "execution_count": 112,
   "id": "650cd701-1a8b-421e-80f8-df032761cb82",
   "metadata": {},
   "outputs": [],
   "source": [
    "B.add_explicit_area('A', n, k, beta)\n",
    "B.add_explicit_area('B', n+1, k, beta)\n",
    "B.add_explicit_area('C', n+2, k, beta)\n",
    "\n",
    "B.add_stimulus(stimulus_name=\"STIM_1\", size=5)\n",
    "B.add_stimulus(stimulus_name=\"STIM_2\", size=5)"
   ]
  },
  {
   "cell_type": "code",
   "execution_count": 113,
   "id": "827ee10e-50d6-4f91-8b35-37a4a85d10d5",
   "metadata": {},
   "outputs": [
    {
     "data": {
      "text/plain": [
       "{'A': <brain.Area at 0x112148150>,\n",
       " 'B': <brain.Area at 0x11214a3d0>,\n",
       " 'C': <brain.Area at 0x11217ad90>}"
      ]
     },
     "execution_count": 113,
     "metadata": {},
     "output_type": "execute_result"
    }
   ],
   "source": [
    "B.area_by_name"
   ]
  },
  {
   "cell_type": "code",
   "execution_count": 114,
   "id": "7e91c888-4ec7-4c8d-a078-1aa7deaffeb8",
   "metadata": {},
   "outputs": [
    {
     "data": {
      "text/plain": [
       "{'STIM_1': 5, 'STIM_2': 5}"
      ]
     },
     "execution_count": 114,
     "metadata": {},
     "output_type": "execute_result"
    }
   ],
   "source": [
    "B.stimulus_size_by_name"
   ]
  },
  {
   "cell_type": "markdown",
   "id": "7864ab92-8344-419b-9f5a-c200fa8087d7",
   "metadata": {},
   "source": [
    "Connectomes are added for each area; these (matrices are created as binomial matrices with p probability of being connected\n",
    "\n",
    "- two areas with $n_a$ and $n_b$ are connected with $(n_a, n_b)$ adjacency matrix. $p(A_{ij}=1)=p$\n",
    "- A stimulus of size $s$ is connected to a area of size $n$ with a $n$-vector, each element being the number of stimulus nodes connected (how much stimulus activates each neuron in area). This is calculated again by binomial distribution, but this time by counting successes in $s$ trials with probability p. Essentially, shortcut the matrix by not physically representing stimulus neurons. "
   ]
  },
  {
   "cell_type": "code",
   "execution_count": 115,
   "id": "b1f74f5d-15d4-4782-8aea-830b0a140cb9",
   "metadata": {},
   "outputs": [
    {
     "data": {
      "text/plain": [
       "((10, 11),\n",
       " array([[0., 1., 0., 0., 0., 1., 0., 1., 0., 1., 0.],\n",
       "        [1., 0., 1., 0., 1., 0., 1., 0., 1., 1., 0.],\n",
       "        [0., 0., 1., 0., 1., 0., 0., 1., 0., 0., 1.],\n",
       "        [1., 0., 1., 1., 0., 0., 1., 0., 1., 1., 0.],\n",
       "        [0., 1., 1., 0., 1., 1., 1., 1., 1., 1., 0.],\n",
       "        [0., 0., 0., 1., 0., 0., 1., 1., 0., 0., 0.],\n",
       "        [1., 0., 0., 0., 1., 0., 0., 0., 1., 1., 1.],\n",
       "        [0., 1., 1., 1., 0., 1., 1., 1., 1., 1., 0.],\n",
       "        [0., 1., 1., 1., 0., 0., 1., 1., 1., 0., 1.],\n",
       "        [0., 1., 0., 1., 1., 1., 1., 0., 0., 0., 0.]], dtype=float32))"
      ]
     },
     "execution_count": 115,
     "metadata": {},
     "output_type": "execute_result"
    }
   ],
   "source": [
    "B.connectomes['A']['B'].shape, B.connectomes['A']['B']"
   ]
  },
  {
   "cell_type": "code",
   "execution_count": 118,
   "id": "00a2c204-ecf5-4943-b6c2-838607b97f92",
   "metadata": {},
   "outputs": [
    {
     "data": {
      "text/plain": [
       "{'A': array([1., 3., 3., 3., 2., 5., 2., 1., 3., 0.], dtype=float32),\n",
       " 'B': array([5., 1., 3., 3., 4., 3., 4., 2., 3., 2., 2.], dtype=float32),\n",
       " 'C': array([4., 2., 4., 3., 4., 5., 3., 4., 1., 4., 1., 4.], dtype=float32)}"
      ]
     },
     "execution_count": 118,
     "metadata": {},
     "output_type": "execute_result"
    }
   ],
   "source": [
    "# binomial(n=stim_size, p=p, size = n_area)\n",
    "B.connectomes_by_stimulus['STIM_1']"
   ]
  },
  {
   "cell_type": "code",
   "execution_count": 122,
   "id": "2d5eabff-3833-437e-8329-54b6ce55cb4e",
   "metadata": {},
   "outputs": [
    {
     "data": {
      "text/plain": [
       "[]"
      ]
     },
     "execution_count": 122,
     "metadata": {},
     "output_type": "execute_result"
    }
   ],
   "source": [
    "B.area_by_name['A'].winners # still no winners!"
   ]
  },
  {
   "cell_type": "code",
   "execution_count": null,
   "id": "5acf016b-ae13-44aa-8e49-dfa6b3e10606",
   "metadata": {},
   "outputs": [],
   "source": []
  },
  {
   "cell_type": "markdown",
   "id": "285621fd-e791-4c5c-9e3e-5a8f0b25fcfd",
   "metadata": {},
   "source": [
    "### Projection and Activation\n",
    "\n",
    "Project takes in 2 primary arguments: \n",
    "- areas_by_stim is a dictionary where keys are stimuli name and values are the areas want to project that stimulus onto. $\\{$ \"stim1\":$[A]$, \"stim2\":$[C,A]\\}$\n",
    "- dst_areas_by_src areas is a dictionary where keys and values are both \n"
   ]
  },
  {
   "cell_type": "code",
   "execution_count": 129,
   "id": "0ef947ac-d2e3-4b11-bcca-240f7b4d6a51",
   "metadata": {},
   "outputs": [],
   "source": [
    "B.activate('C', index=3) # zap neurons [index*k : index*(k+1)] to enforce firing"
   ]
  },
  {
   "cell_type": "code",
   "execution_count": 127,
   "id": "f91299c5-511a-4e2b-8274-5d292bb8af5f",
   "metadata": {},
   "outputs": [
    {
     "data": {
      "text/plain": [
       "[6, 7]"
      ]
     },
     "execution_count": 127,
     "metadata": {},
     "output_type": "execute_result"
    }
   ],
   "source": [
    "B.area_by_name['C'].winners"
   ]
  },
  {
   "cell_type": "code",
   "execution_count": null,
   "id": "c7f0f0cb-ef7d-4ff1-8a5c-317ff8701258",
   "metadata": {},
   "outputs": [],
   "source": []
  },
  {
   "cell_type": "markdown",
   "id": "60d69d81-2430-4b14-9d40-2cbe58bdb795",
   "metadata": {},
   "source": [
    "### Simple Experiment\n",
    "\n",
    "Filipp Code Explanation :\n",
    "\n",
    "- When you initialize a stimulus, it is [initialized to nothing](https://github.com/dmitropolsky/assemblies/blob/master/brain.py#L153)\n",
    "- When stimuli and/or areas or added, automatically have some probability of being [connected](https://github.com/dmitropolsky/assemblies/blob/master/brain.py#L170) to each other\n",
    "- When you project, it's going to call the [project_into method](https://github.com/dmitropolsky/assemblies/blob/master/brain.py#L300) with your stimulus and the area\n",
    "- Then it stimulates areas to [find k winners here](https://github.com/dmitropolsky/assemblies/blob/master/brain.py#L398-L417)\n",
    "    - The \"k\" that you previously defined for your stimulus affects the amount of stimulation. That's why it makes sense to set k=k (where the other k is the k in top-k). It uses this to randomly fire that number of neurons.\n",
    "- Finally the resulting winners are now [associated with the stimulus](https://github.com/dmitropolsky/assemblies/blob/master/brain.py#L480-L516)\n",
    "- The next time you project, the previous winners that are associated with the stimulus [will be taken into account](https://github.com/dmitropolsky/assemblies/blob/master/brain.py#L340-L351)\n",
    "\n",
    "Increasing the likelihood of them activating again. So essentially as you keep on firing the stimulus the assemblies will start to converge."
   ]
  },
  {
   "cell_type": "code",
   "execution_count": 29,
   "id": "6695d918-34b7-4fd2-8a97-236eba1b2524",
   "metadata": {},
   "outputs": [],
   "source": [
    "n = 10\n",
    "k = 2\n",
    "p = 0.01\n",
    "beta = 0.05\n",
    "t = 10"
   ]
  },
  {
   "cell_type": "code",
   "execution_count": 30,
   "id": "531760fb-c53e-48ec-8f3b-1bf549512cba",
   "metadata": {},
   "outputs": [],
   "source": [
    "stimulus = \"STIM\"\n",
    "basic_brain = brain.Brain(p)\n",
    "basic_brain.add_stimulus(stimulus_name=stimulus,size=k)\n",
    "basic_brain.add_explicit_area(\"A\",n,k,beta)\n"
   ]
  },
  {
   "cell_type": "code",
   "execution_count": 42,
   "id": "39b393f1-11be-4f9a-8bd3-29f4535a0c9c",
   "metadata": {},
   "outputs": [
    {
     "data": {
      "text/plain": [
       "numpy.random._generator.Generator"
      ]
     },
     "execution_count": 42,
     "metadata": {},
     "output_type": "execute_result"
    }
   ],
   "source": [
    "type(basic_brain._rng)"
   ]
  },
  {
   "cell_type": "code",
   "execution_count": 52,
   "id": "3f11f998-c07c-4c9d-921a-b0cd27b82b18",
   "metadata": {},
   "outputs": [
    {
     "data": {
      "text/plain": [
       "<function Generator.binomial>"
      ]
     },
     "execution_count": 52,
     "metadata": {},
     "output_type": "execute_result"
    }
   ],
   "source": [
    "stim_size = 10\n",
    "\n",
    "basic_brain._rng.binomial#(stim_size, p=0.4, size=4)"
   ]
  },
  {
   "cell_type": "code",
   "execution_count": 38,
   "id": "06ca7538-3ceb-4b53-98db-d4a01d6e72fb",
   "metadata": {},
   "outputs": [
    {
     "data": {
      "text/plain": [
       "10"
      ]
     },
     "execution_count": 38,
     "metadata": {},
     "output_type": "execute_result"
    }
   ],
   "source": [
    "basic_brain.area_by_name['A'].n"
   ]
  },
  {
   "cell_type": "code",
   "execution_count": null,
   "id": "06cd1562-bcf5-4160-92c7-6b6b66f6acbe",
   "metadata": {},
   "outputs": [],
   "source": [
    "this_stimulus_connectomes[area_name] = self._rng.binomial(\n",
    "    size, self.p,\n",
    "    size=self.area_by_name[area_name].n).astype(np.float32)"
   ]
  },
  {
   "cell_type": "code",
   "execution_count": 33,
   "id": "8550970b-a234-4811-a752-fe94bbfae958",
   "metadata": {},
   "outputs": [
    {
     "data": {
      "text/plain": [
       "{'A': array([0., 0., 0., 0., 0., 0., 0., 0., 0., 0.], dtype=float32)}"
      ]
     },
     "execution_count": 33,
     "metadata": {},
     "output_type": "execute_result"
    }
   ],
   "source": [
    "basic_brain.connectomes_by_stimulus['STIM']"
   ]
  },
  {
   "cell_type": "code",
   "execution_count": 21,
   "id": "fd585903-83f4-41ac-842a-3ee3c6e5e09c",
   "metadata": {},
   "outputs": [
    {
     "data": {
      "text/plain": [
       "{'A': <brain.Area at 0x12a396f90>}"
      ]
     },
     "execution_count": 21,
     "metadata": {},
     "output_type": "execute_result"
    }
   ],
   "source": [
    "basic_brain.area_by_name"
   ]
  },
  {
   "cell_type": "code",
   "execution_count": 26,
   "id": "39f5ec3c-3894-456c-bd0d-0124e1634f8e",
   "metadata": {},
   "outputs": [],
   "source": [
    "basic_brain.project({stimulus:[\"A\"]},{})"
   ]
  },
  {
   "cell_type": "code",
   "execution_count": null,
   "id": "9f8e6d8e-28cb-4785-b95c-a21eea564e8e",
   "metadata": {},
   "outputs": [],
   "source": [
    "\n",
    "\n",
    "for i in range(t-1):\n",
    "   basic_brain.project({stimulus:[\"A\"]},{\"A\":[\"A\"]})\n",
    "\n",
    "area = basic_brain.area_by_name[\"A\"]\n",
    "#self.assertEqual(w[-2], w[-1])\n",
    "\n",
    "\n",
    "\"\"\"\n",
    "w: Number of neurons that has ever fired in this area.\n",
    "saved_w: List of per-round size-of-support.\n",
    "winners: List of winners, as set by previous action.\n",
    "saved_winners: List of lists of all winners, per-round.\n",
    "\"\"\"\n",
    "print(f\"Number of neurons fired: {area.w}\")\n",
    "print(f\"Saved_w: {area.saved_w}\")\n",
    "print(f\"Winners: {area.winners}\")\n",
    "print(f\"Saved_Winners: {area.saved_winners}\\n\")"
   ]
  },
  {
   "cell_type": "code",
   "execution_count": null,
   "id": "0bdb3f0e-346b-490c-9639-8bc37d376846",
   "metadata": {},
   "outputs": [],
   "source": []
  }
 ],
 "metadata": {
  "kernelspec": {
   "display_name": "Python 3 (ipykernel)",
   "language": "python",
   "name": "python3"
  },
  "language_info": {
   "codemirror_mode": {
    "name": "ipython",
    "version": 3
   },
   "file_extension": ".py",
   "mimetype": "text/x-python",
   "name": "python",
   "nbconvert_exporter": "python",
   "pygments_lexer": "ipython3",
   "version": "3.11.0"
  }
 },
 "nbformat": 4,
 "nbformat_minor": 5
}
