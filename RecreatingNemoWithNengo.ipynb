{
 "cells": [
  {
   "cell_type": "code",
   "execution_count": 7,
   "id": "3d1a866e-8ab8-4950-9d29-9bbc24a10b02",
   "metadata": {},
   "outputs": [],
   "source": [
    "import matplotlib.pyplot as plt\n",
    "import numpy as np\n",
    "import collections\n",
    "import nengo\n",
    "from nengo.utils.matplotlib import rasterplot"
   ]
  },
  {
   "cell_type": "code",
   "execution_count": 8,
   "id": "e4a269ff-5c0f-4d6f-a064-3d9e8a7f7f4d",
   "metadata": {},
   "outputs": [],
   "source": [
    "import sys\n",
    "sys.path.append('/Users/samart/Desktop/Neuro/SNNs/assemblies')"
   ]
  },
  {
   "cell_type": "code",
   "execution_count": 9,
   "id": "9dd708f3-aaea-441e-a58e-9332cf1fc25c",
   "metadata": {},
   "outputs": [],
   "source": [
    "import brain"
   ]
  },
  {
   "cell_type": "code",
   "execution_count": 10,
   "id": "fdbb7cc1-377b-430b-91c5-10f90440d047",
   "metadata": {},
   "outputs": [],
   "source": [
    "def diff(a, b):\n",
    "    # Count occurrences of each element in both arrays\n",
    "    count1 = collections.Counter(a)\n",
    "    count2 = collections.Counter(b)\n",
    "    # Calculate the difference in counts for each unique element\n",
    "    total_diff = 0\n",
    "    all_keys = set(count1.keys()).union(count2.keys())\n",
    "    for key in all_keys:\n",
    "        total_diff += abs(count1[key] - count2[key])\n",
    "    \n",
    "    return total_diff"
   ]
  },
  {
   "cell_type": "markdown",
   "id": "226780b5-9095-4ea2-8462-fa363944df9b",
   "metadata": {
    "jp-MarkdownHeadingCollapsed": true
   },
   "source": [
    "## Assembly Creation in NEMO"
   ]
  },
  {
   "cell_type": "code",
   "execution_count": 9,
   "id": "7a6d40aa-404e-492e-b246-cee7a6293a78",
   "metadata": {},
   "outputs": [],
   "source": [
    "N = 1000\n",
    "k = 10\n",
    "beta = 0.05\n",
    "p = 0.01 \n"
   ]
  },
  {
   "cell_type": "code",
   "execution_count": 10,
   "id": "cc32302e-17b0-4c21-99f0-7cb7a80d3e81",
   "metadata": {},
   "outputs": [],
   "source": [
    "nemo = brain.Brain(p, save_winners=True)\n",
    "\n",
    "nemo.add_stimulus(stimulus_name = 'STIM', size = k)\n",
    "nemo.add_explicit_area(\"A\", N, k, beta)\n",
    "nemo.add_explicit_area(\"B\", N, k, beta)"
   ]
  },
  {
   "cell_type": "markdown",
   "id": "cb55db97-c60a-4d74-a8b2-5d7fd9a1f9ec",
   "metadata": {},
   "source": [
    "### Creating Stimulus Assembly into A"
   ]
  },
  {
   "cell_type": "code",
   "execution_count": 11,
   "id": "b686f197-8dc0-4de1-aad2-23ec6405ecfa",
   "metadata": {},
   "outputs": [
    {
     "name": "stdout",
     "output_type": "stream",
     "text": [
      "Projecting STIM  and  into A\n",
      "Projecting STIM  and  into A\n",
      "Projecting STIM  and  into A\n",
      "Projecting STIM  and  into A\n"
     ]
    }
   ],
   "source": [
    "t = 5\n",
    "for i in range(t-1):\n",
    "    nemo.project({'STIM':[\"A\"]}, {}, verbose=1)"
   ]
  },
  {
   "cell_type": "code",
   "execution_count": 12,
   "id": "5b7c610e-a1fe-4d9e-ba84-5a3799d96102",
   "metadata": {},
   "outputs": [
    {
     "data": {
      "text/plain": [
       "(1000,)"
      ]
     },
     "execution_count": 12,
     "metadata": {},
     "output_type": "execute_result"
    }
   ],
   "source": [
    "Wsa = nemo.connectomes_by_stimulus['STIM']['A']\n",
    "\n",
    "Wsa.shape"
   ]
  },
  {
   "cell_type": "code",
   "execution_count": 13,
   "id": "017607bc-fc93-42ca-8562-63074db13d03",
   "metadata": {},
   "outputs": [],
   "source": [
    "def d(a1, a2):\n",
    "    return np.sum(np.array(a1) != np.array(a2))\n",
    "\n",
    "diff = []\n",
    "assembly = nemo.area_by_name['A'].saved_winners[-1]\n",
    "for a in nemo.area_by_name['A'].saved_winners:\n",
    "    diff.append(d(a, assembly))"
   ]
  },
  {
   "cell_type": "code",
   "execution_count": 14,
   "id": "0b74a8c6-1992-4e67-bad4-1af32454abc4",
   "metadata": {},
   "outputs": [
    {
     "data": {
      "image/png": "[encoded data removed]",
      "text/plain": [
       "<Figure size 640x480 with 1 Axes>"
      ]
     },
     "metadata": {},
     "output_type": "display_data"
    }
   ],
   "source": [
    "plt.plot(diff)\n",
    "plt.show()"
   ]
  },
  {
   "cell_type": "code",
   "execution_count": 16,
   "id": "552e18a5-7647-40c3-933c-d43fe8c07502",
   "metadata": {},
   "outputs": [
    {
     "data": {
      "text/plain": [
       "[26, 308, 530, 5, 9, 27, 38, 67, 71, 73]"
      ]
     },
     "execution_count": 16,
     "metadata": {},
     "output_type": "execute_result"
    }
   ],
   "source": [
    "assembly"
   ]
  },
  {
   "cell_type": "code",
   "execution_count": 15,
   "id": "b136931e-9a58-40b8-bb81-f4e94245d034",
   "metadata": {},
   "outputs": [
    {
     "data": {
      "text/plain": [
       "array([2.4310124, 2.4310124, 2.4310124, 1.2155062, 1.2155062, 1.2155062,\n",
       "       1.2155062, 1.2155062, 1.2155062, 1.2155062], dtype=float32)"
      ]
     },
     "execution_count": 15,
     "metadata": {},
     "output_type": "execute_result"
    }
   ],
   "source": [
    "Wsa[assembly]"
   ]
  },
  {
   "cell_type": "code",
   "execution_count": 23,
   "id": "4898d98b-e863-4ea8-9cd1-77c75296fb5e",
   "metadata": {},
   "outputs": [
    {
     "name": "stdout",
     "output_type": "stream",
     "text": [
      "[530  26 308   9  27  38  67   5  71  73]\n",
      "[ 73  71   5  67  38  27   9 308  26 530]\n"
     ]
    }
   ],
   "source": [
    "print(np.flip(np.argsort(Wsa)[-k:]))\n",
    "print(np.argsort(Wsa)[-k:])"
   ]
  },
  {
   "cell_type": "code",
   "execution_count": 18,
   "id": "a6bdb01c-7884-491c-a723-40c659932fe8",
   "metadata": {},
   "outputs": [
    {
     "data": {
      "text/plain": [
       "40"
      ]
     },
     "execution_count": 18,
     "metadata": {},
     "output_type": "execute_result"
    }
   ],
   "source": [
    "asdf = 0\n",
    "for i in np.argsort(Wsa)[-50:]:\n",
    "    asdf += int(i not in assembly)\n",
    "asdf"
   ]
  },
  {
   "cell_type": "code",
   "execution_count": 19,
   "id": "4f9dcdd9-5074-4cac-b7c2-177bd6904d91",
   "metadata": {},
   "outputs": [
    {
     "data": {
      "text/plain": [
       "[26, 308, 530, 5, 9, 27, 38, 67, 71, 73]"
      ]
     },
     "execution_count": 19,
     "metadata": {},
     "output_type": "execute_result"
    }
   ],
   "source": [
    "assembly"
   ]
  },
  {
   "cell_type": "code",
   "execution_count": 20,
   "id": "0fc7461b-5ee0-45c9-b186-dc517b87d1bc",
   "metadata": {},
   "outputs": [
    {
     "data": {
      "text/plain": [
       "array([ True,  True,  True,  True,  True,  True,  True,  True,  True,\n",
       "        True])"
      ]
     },
     "execution_count": 20,
     "metadata": {},
     "output_type": "execute_result"
    }
   ],
   "source": [
    "np.array(nemo.area_by_name['A'].saved_winners[0]) == assembly"
   ]
  },
  {
   "cell_type": "code",
   "execution_count": 21,
   "id": "a04e8320-cfe5-45d2-9c21-e833af63f24c",
   "metadata": {},
   "outputs": [
    {
     "data": {
      "text/plain": [
       "[26, 308, 530, 5, 9, 27, 38, 67, 71, 73]"
      ]
     },
     "execution_count": 21,
     "metadata": {},
     "output_type": "execute_result"
    }
   ],
   "source": [
    "nemo.area_by_name['A'].saved_winners[0]"
   ]
  },
  {
   "cell_type": "code",
   "execution_count": 22,
   "id": "2b020594-c96a-49c0-863a-e2b3e7a49fc9",
   "metadata": {},
   "outputs": [
    {
     "name": "stdout",
     "output_type": "stream",
     "text": [
      "At time 1, winners were [26, 308, 530, 5, 9, 27, 38, 67, 71, 73].\n",
      "\n",
      "\n",
      "At time 2, winners were [26, 308, 530, 5, 9, 27, 38, 67, 71, 73].\n",
      "\n",
      "\n",
      "At time 3, winners were [26, 308, 530, 5, 9, 27, 38, 67, 71, 73].\n",
      "\n",
      "\n",
      "At time 4, winners were [26, 308, 530, 5, 9, 27, 38, 67, 71, 73].\n",
      "\n",
      "\n",
      "At time 5, winners were [26, 308, 530, 5, 9, 27, 38, 67, 71, 73].\n",
      "\n",
      "\n",
      "At time 6, winners were [26, 308, 530, 5, 9, 27, 38, 67, 71, 73].\n",
      "\n",
      "\n",
      "At time 7, winners were [26, 308, 530, 5, 9, 27, 38, 67, 71, 73].\n",
      "\n",
      "\n",
      "At time 8, winners were [26, 308, 530, 5, 9, 27, 38, 67, 71, 73].\n",
      "\n",
      "\n"
     ]
    }
   ],
   "source": [
    "for t, winners in enumerate(nemo.area_by_name['A'].saved_winners):\n",
    "    print(f\"At time {t+1}, winners were {winners}.\\n\\n\")"
   ]
  },
  {
   "cell_type": "markdown",
   "id": "1de4ffc1-e351-4f04-98a8-0855de85c406",
   "metadata": {
    "jp-MarkdownHeadingCollapsed": true
   },
   "source": [
    "### Projecting assembly into B as well "
   ]
  },
  {
   "cell_type": "code",
   "execution_count": 23,
   "id": "4a9a049b-4067-4ffb-8828-7104be5f576c",
   "metadata": {},
   "outputs": [],
   "source": [
    "N = 10000\n",
    "k = 50\n",
    "beta = 0.05\n",
    "p = 0.01 "
   ]
  },
  {
   "cell_type": "code",
   "execution_count": 24,
   "id": "b04023a2-967d-4b19-977d-6db4cf3be491",
   "metadata": {},
   "outputs": [],
   "source": [
    "nemo = brain.Brain(p, save_winners=True)\n",
    "\n",
    "nemo.add_stimulus(stimulus_name = 'STIM', size = k)\n",
    "nemo.add_explicit_area(\"A\", N, k, beta)\n",
    "nemo.add_explicit_area(\"B\", N, k, beta)"
   ]
  },
  {
   "cell_type": "code",
   "execution_count": 25,
   "id": "8510b96f-4efe-4b96-94a1-1d3c855ddf31",
   "metadata": {},
   "outputs": [],
   "source": [
    "t = 5\n",
    "for i in range(t):\n",
    "    nemo.project({'STIM':[\"A\"]}, {})\n",
    "    if(t > 0):\n",
    "        nemo.project({'STIM':[\"A\"]}, {\"A\":[\"B\"]})"
   ]
  },
  {
   "cell_type": "code",
   "execution_count": 26,
   "id": "7fc192d4-be6e-4699-a7ab-daa51d096ad3",
   "metadata": {},
   "outputs": [],
   "source": [
    "sA = np.array(nemo.area_by_name['A'].winners)\n",
    "sB = np.array(nemo.area_by_name['B'].winners)"
   ]
  },
  {
   "cell_type": "code",
   "execution_count": 27,
   "id": "931c5110-7d5b-427b-b464-12879d19eec1",
   "metadata": {},
   "outputs": [
    {
     "ename": "NameError",
     "evalue": "name 'similar' is not defined",
     "output_type": "error",
     "traceback": [
      "\u001b[0;31m---------------------------------------------------------------------------\u001b[0m",
      "\u001b[0;31mNameError\u001b[0m                                 Traceback (most recent call last)",
      "Cell \u001b[0;32mIn[27], line 2\u001b[0m\n\u001b[1;32m      1\u001b[0m \u001b[38;5;28;01mfor\u001b[39;00m wA \u001b[38;5;129;01min\u001b[39;00m nemo\u001b[38;5;241m.\u001b[39marea_by_name[\u001b[38;5;124m'\u001b[39m\u001b[38;5;124mA\u001b[39m\u001b[38;5;124m'\u001b[39m]\u001b[38;5;241m.\u001b[39msaved_winners:\n\u001b[0;32m----> 2\u001b[0m     \u001b[38;5;28mprint\u001b[39m(similar(wA, sA))\n",
      "\u001b[0;31mNameError\u001b[0m: name 'similar' is not defined"
     ]
    }
   ],
   "source": [
    "for wA in nemo.area_by_name['A'].saved_winners:\n",
    "    print(similar(wA, sA))"
   ]
  },
  {
   "cell_type": "code",
   "execution_count": 93,
   "id": "5dceb502-55a6-4c05-b1c8-b01d8f63eaef",
   "metadata": {},
   "outputs": [
    {
     "name": "stdout",
     "output_type": "stream",
     "text": [
      "0\n",
      "0\n",
      "0\n",
      "0\n",
      "0\n"
     ]
    }
   ],
   "source": [
    "for wB in nemo.area_by_name['B'].saved_winners:\n",
    "    print(similar(wB, sB))"
   ]
  },
  {
   "cell_type": "markdown",
   "id": "270d0d64-f3a6-4411-ac41-c583117b31e5",
   "metadata": {},
   "source": [
    "## Recreating Assembly Projection in Nengo"
   ]
  },
  {
   "cell_type": "code",
   "execution_count": 62,
   "id": "443571ba-e8be-4a52-a2a6-fb627e99054a",
   "metadata": {},
   "outputs": [],
   "source": [
    "import nengo\n",
    "from nengo.dists import Uniform, ScatteredHypersphere\n",
    "from nengo.processes import WhiteSignal\n",
    "from nengo.utils.ensemble import tuning_curves\n",
    "from nengo.utils.ipython import hide_input\n",
    "from nengo.utils.matplotlib import rasterplot\n"
   ]
  },
  {
   "cell_type": "code",
   "execution_count": 63,
   "id": "c6018a13-21be-4a47-ada2-7ed51867671d",
   "metadata": {},
   "outputs": [],
   "source": [
    "N = 200\n",
    "k = 5\n",
    "beta = 0.05\n",
    "p = 0.01 \n"
   ]
  },
  {
   "cell_type": "code",
   "execution_count": 66,
   "id": "5b9abe9e-9cb9-4e8d-92dc-460d849fa81b",
   "metadata": {},
   "outputs": [
    {
     "name": "stdout",
     "output_type": "stream",
     "text": [
      "Projecting STIM  and  into A\n",
      "Projecting   and A into B\n",
      "Projecting STIM  and  into A\n",
      "Projecting STIM  and  into A\n",
      "Projecting   and A into B\n",
      "Projecting STIM  and  into A\n",
      "Projecting STIM  and  into A\n",
      "Projecting   and A into B\n",
      "Projecting STIM  and  into A\n",
      "Projecting STIM2  and  into A\n",
      "Projecting   and A into B\n",
      "Projecting STIM2  and  into A\n",
      "Projecting STIM2  and  into A\n",
      "Projecting   and A into B\n",
      "Projecting STIM2  and  into A\n",
      "Projecting STIM2  and  into A\n",
      "Projecting   and A into B\n",
      "Projecting STIM2  and  into A\n"
     ]
    }
   ],
   "source": [
    "nemo = brain.Brain(p, save_winners=True)\n",
    "\n",
    "nemo.add_stimulus(stimulus_name = 'STIM', size = k)\n",
    "nemo.add_stimulus(stimulus_name = 'STIM2', size = k)\n",
    "nemo.add_explicit_area(\"A\", N, k, beta)\n",
    "nemo.add_explicit_area(\"B\", N, k, beta)\n",
    "\n",
    "t = 3\n",
    "for i in range(t):\n",
    "    nemo.project({'STIM':[\"A\"]}, {}, verbose=1)\n",
    "    if(t > 0):\n",
    "        nemo.project({'STIM':[\"A\"]}, {\"A\":[\"B\"]}, verbose=1)\n",
    "\n",
    "sA = np.array(nemo.area_by_name['A'].winners)\n",
    "sB = np.array(nemo.area_by_name['B'].winners)\n",
    "\n",
    "for i in range(t):\n",
    "    nemo.project({'STIM2':[\"A\"]}, {}, verbose=1)\n",
    "    if(t > 0):\n",
    "        nemo.project({'STIM2':[\"A\"]}, {\"A\":[\"B\"]}, verbose=1)\n",
    "\n",
    "sA2 = np.array(nemo.area_by_name['A'].winners)\n",
    "sB2 = np.array(nemo.area_by_name['B'].winners)\n",
    "\n"
   ]
  },
  {
   "cell_type": "code",
   "execution_count": 67,
   "id": "f6e46b3a-1c39-4c85-b609-b1ba161e1744",
   "metadata": {},
   "outputs": [
    {
     "data": {
      "text/plain": [
       "(array([26, 27, 73, 77, 91]), array([ 6, 39, 41, 52, 75]))"
      ]
     },
     "execution_count": 67,
     "metadata": {},
     "output_type": "execute_result"
    }
   ],
   "source": [
    "sA, sA2"
   ]
  },
  {
   "cell_type": "code",
   "execution_count": 15,
   "id": "b5c5732f-f3eb-489a-952d-7e4f8fea806f",
   "metadata": {},
   "outputs": [
    {
     "data": {
      "text/plain": [
       "array([26, 27, 73, 77, 91])"
      ]
     },
     "execution_count": 15,
     "metadata": {},
     "output_type": "execute_result"
    }
   ],
   "source": [
    "sA"
   ]
  },
  {
   "cell_type": "code",
   "execution_count": 69,
   "id": "a6f04e70-23b2-47bb-b0ca-d3ea533dad65",
   "metadata": {},
   "outputs": [
    {
     "data": {
      "text/plain": [
       "[[26, 27, 73, 77, 91],\n",
       " [26, 27, 73, 77, 91],\n",
       " [26, 27, 73, 77, 91],\n",
       " [26, 27, 73, 77, 91],\n",
       " [26, 27, 73, 77, 91],\n",
       " [26, 27, 73, 77, 91],\n",
       " [6, 39, 41, 52, 75],\n",
       " [6, 39, 41, 52, 75],\n",
       " [6, 39, 41, 52, 75],\n",
       " [6, 39, 41, 52, 75],\n",
       " [6, 39, 41, 52, 75],\n",
       " [6, 39, 41, 52, 75]]"
      ]
     },
     "execution_count": 69,
     "metadata": {},
     "output_type": "execute_result"
    }
   ],
   "source": [
    "nemo.area_by_name['A'].saved_winners"
   ]
  },
  {
   "cell_type": "code",
   "execution_count": 68,
   "id": "353d514a-86bd-421d-8e5e-3322d974d2c9",
   "metadata": {},
   "outputs": [
    {
     "name": "stdout",
     "output_type": "stream",
     "text": [
      "0\n",
      "0\n",
      "0\n",
      "0\n",
      "0\n",
      "0\n",
      "10\n",
      "10\n",
      "10\n",
      "10\n",
      "10\n",
      "10\n"
     ]
    }
   ],
   "source": [
    "for wA in nemo.area_by_name['A'].saved_winners:\n",
    "    print(diff(wA, sA))"
   ]
  },
  {
   "cell_type": "code",
   "execution_count": 70,
   "id": "be21db9d-51de-4428-8cb0-f7dc13a03bfc",
   "metadata": {},
   "outputs": [
    {
     "name": "stdout",
     "output_type": "stream",
     "text": [
      "0\n",
      "0\n",
      "0\n",
      "10\n",
      "10\n",
      "10\n"
     ]
    }
   ],
   "source": [
    "for wB in nemo.area_by_name['B'].saved_winners:\n",
    "    print(diff(wB, sB))"
   ]
  },
  {
   "cell_type": "markdown",
   "id": "fbde6224-563d-449e-ae76-542d8c015aaa",
   "metadata": {},
   "source": [
    "### Converting sparse binary vectors into Nengo values $\\in \\mathbb{R}^k$ \n",
    "\n",
    "- Each neuron has its own encoding vector or distribution, which specifies its tuning curve (what input current sets it firing) \n",
    "- As referenced in [NEF](https://compneuro.uwaterloo.ca/files/publications/stewart.2012d.pdf), value of activity vector is $$\\vec{r} = G(\\alpha E \\cdot \\vec{x} + \\vec{b})$$\n",
    "- In our case, $x$ represents the sparse binary vector (i.e. the activation of a specific Hebbian Assembly"
   ]
  },
  {
   "cell_type": "code",
   "execution_count": 109,
   "id": "772c96d7-a071-4759-88ce-eba440a09aee",
   "metadata": {},
   "outputs": [],
   "source": [
    "def aligned(n_neurons, radius=0.9):\n",
    "    intercepts = np.linspace(-radius, radius, n_neurons)\n",
    "    encoders = np.tile([[1], [-1]], (n_neurons // 2, 1))\n",
    "    intercepts *= encoders[:, 0]\n",
    "    return intercepts, encoders\n",
    "\n",
    "def generate_encoders(N, k, rad=1.0, method='ScatteredHypersphere'):\n",
    "    intercepts = Uniform(-1.0, 0.9)\n",
    "    match method.lower():\n",
    "        case m if \"hypersphere\" in m:\n",
    "            dist = ScatteredHypersphere(surface=True)\n",
    "            encoders = dist.sample(N,k)\n",
    "        case \"gaussian\":\n",
    "            encoders = np.random.randn(N, k)\n",
    "    return(intercepts, encoders)"
   ]
  },
  {
   "cell_type": "code",
   "execution_count": 110,
   "id": "abdfbe38-479c-4091-8cfb-33902f54458b",
   "metadata": {},
   "outputs": [
    {
     "data": {
      "text/plain": [
       "(array([26, 27, 73, 77, 91]), array([ 3, 12, 14, 24, 30]))"
      ]
     },
     "execution_count": 110,
     "metadata": {},
     "output_type": "execute_result"
    }
   ],
   "source": [
    "sA, sB"
   ]
  },
  {
   "cell_type": "code",
   "execution_count": 111,
   "id": "031386d8",
   "metadata": {},
   "outputs": [
    {
     "data": {
      "text/plain": [
       "(array([ 6, 39, 41, 52, 75]), array([ 0, 69, 74, 86, 87]))"
      ]
     },
     "execution_count": 111,
     "metadata": {},
     "output_type": "execute_result"
    }
   ],
   "source": [
    "sA2, sB2"
   ]
  },
  {
   "cell_type": "markdown",
   "id": "9e17024b-925c-4cc9-a6df-897a1036c1a5",
   "metadata": {},
   "source": [
    "- add non-linearity G? \n",
    "- learn rB? "
   ]
  },
  {
   "cell_type": "code",
   "execution_count": 116,
   "id": "24af3f99-c721-4c93-ba4c-f35dfb49694e",
   "metadata": {},
   "outputs": [],
   "source": [
    "Ia, Ea = generate_encoders(N, k)\n",
    "Ib, Eb = generate_encoders(2*N, k)\n",
    "Ea = Ea + 0.1 * np.random.randn(N, k)\n",
    "Eb = Eb + 0.1 * np.random.randn(2*N, k)\n",
    "\n",
    "rA = Ea[sA].sum(axis=0)\n",
    "rB = Eb[sB].sum(axis=0)\n",
    "rA2 = Ea[sA2].sum(axis=0)\n",
    "rB2 = Eb[sB2].sum(axis=0)"
   ]
  },
  {
   "cell_type": "code",
   "execution_count": 117,
   "id": "58a9c5f4",
   "metadata": {},
   "outputs": [
    {
     "data": {
      "text/plain": [
       "(array([-1.82181885, -0.25741709, -1.10241682,  0.82794475, -0.71078532]),\n",
       " array([ 0.28294335, -1.59197662, -0.11999742,  0.57131591, -0.84415982]))"
      ]
     },
     "execution_count": 117,
     "metadata": {},
     "output_type": "execute_result"
    }
   ],
   "source": [
    "rA, rB"
   ]
  },
  {
   "cell_type": "code",
   "execution_count": 118,
   "id": "ccc2dda0",
   "metadata": {},
   "outputs": [
    {
     "data": {
      "text/plain": [
       "(array([-0.22690929,  0.49406552, -1.65001212,  0.32268136, -0.07767186]),\n",
       " array([ 0.00618454,  1.78603894,  0.74512554, -1.16111609, -0.0925559 ]))"
      ]
     },
     "execution_count": 118,
     "metadata": {},
     "output_type": "execute_result"
    }
   ],
   "source": [
    "rA2, rB2"
   ]
  },
  {
   "cell_type": "code",
   "execution_count": 119,
   "id": "3e007166-9d3a-4794-b397-265a5dc9b590",
   "metadata": {},
   "outputs": [],
   "source": [
    "def input_signal(t):\n",
    "    if(t < 10.0):\n",
    "        return(rA)\n",
    "    elif(t < 13.0):\n",
    "        return(np.random.normal(loc=0.0, scale=0.707, size=k))\n",
    "    elif(t < 20):\n",
    "        return(rA2)\n",
    "    else:\n",
    "        return(rA)\n",
    "    \n",
    "\n",
    "        "
   ]
  },
  {
   "cell_type": "code",
   "execution_count": 120,
   "id": "c94387ae-a049-43e9-818f-8ebb65496a15",
   "metadata": {},
   "outputs": [],
   "source": [
    "net = nengo.Network()\n",
    "with net:\n",
    "    stim = nengo.Node(output=input_signal, size_out=k)\n",
    "    stim_p = nengo.Probe(stim)\n",
    "    \n",
    "    A = nengo.Ensemble(n_neurons=N, dimensions=k, encoders=Ea, intercepts=Ia, label='A')#, gain=np.diag(np.ones(N)), bias=np.zeros(N))\n",
    "    A_p = nengo.Probe(A)\n",
    "    A_neurons = nengo.Probe(A.neurons)\n",
    "    \n",
    "    B = nengo.Ensemble(n_neurons=2*N, dimensions=k, encoders=Eb, intercepts=Ib, label='B')\n",
    "    B_p = nengo.Probe(B)\n",
    "    B_neurons = nengo.Probe(B.neurons)\n",
    "\n",
    "    nengo.Connection(stim, A)\n",
    "    conn = nengo.Connection(A, B, function=lambda t : 0.2 * np.random.random(k))\n",
    "    "
   ]
  },
  {
   "cell_type": "code",
   "execution_count": 25,
   "id": "9f780c56-75b8-4ac8-81ec-23dc2f4f9022",
   "metadata": {},
   "outputs": [
    {
     "data": {
      "application/vdom.v1+json": {
       "attributes": {},
       "tagName": "div"
      },
      "text/html": [
       "\n",
       "                <script>\n",
       "                    if (Jupyter.version.split(\".\")[0] < 5) {\n",
       "                        var pb = document.getElementById(\"c8b7b68a-807c-477e-96e2-0c839884a0cf\");\n",
       "                        var text = document.createTextNode(\n",
       "                            \"HTML progress bar requires Jupyter Notebook >= \" +\n",
       "                            \"5.0 or Jupyter Lab. Alternatively, you can use \" +\n",
       "                            \"TerminalProgressBar().\");\n",
       "                        pb.parentNode.insertBefore(text, pb);\n",
       "                    }\n",
       "                </script>\n",
       "                <div id=\"c8b7b68a-807c-477e-96e2-0c839884a0cf\" style=\"\n",
       "                    width: 100%;\n",
       "                    border: 1px solid #cfcfcf;\n",
       "                    border-radius: 4px;\n",
       "                    text-align: center;\n",
       "                    position: relative;\">\n",
       "                  <div class=\"pb-text\" style=\"\n",
       "                      position: absolute;\n",
       "                      width: 100%;\">\n",
       "                    0%\n",
       "                  </div>\n",
       "                  <div class=\"pb-fill\" style=\"\n",
       "                      background-color: #bdd2e6;\n",
       "                      width: 0%;\">\n",
       "                    <style type=\"text/css\" scoped=\"scoped\">\n",
       "                        @keyframes pb-fill-anim {\n",
       "                            0% { background-position: 0 0; }\n",
       "                            100% { background-position: 100px 0; }\n",
       "                        }\n",
       "                    </style>\n",
       "                    &nbsp;\n",
       "                  </div>\n",
       "                </div>"
      ],
      "text/plain": [
       "HtmlProgressBar cannot be displayed. Please use the TerminalProgressBar. It can be enabled with `nengo.rc['progress']['progress_bar'] = 'nengo.utils.progress.TerminalProgressBar'`."
      ]
     },
     "metadata": {},
     "output_type": "display_data"
    },
    {
     "data": {
      "application/vdom.v1+json": {
       "attributes": {
        "id": "c8ae9ff7-ccad-46b5-bd20-bc01fa1e3dd6",
        "style": {
         "border": "1px solid #cfcfcf",
         "borderRadius": "4px",
         "boxSizing": "border-box",
         "position": "relative",
         "textAlign": "center",
         "width": "100%"
        }
       },
       "children": [
        {
         "attributes": {
          "class": "pb-text",
          "style": {
           "position": "absolute",
           "width": "100%"
          }
         },
         "children": [
          "Build finished in 0:00:01."
         ],
         "tagName": "div"
        },
        {
         "attributes": {
          "class": "pb-fill",
          "style": {
           "animation": "none",
           "backgroundColor": "#bdd2e6",
           "backgroundImage": "none",
           "backgroundSize": "100px 100%",
           "width": "100%"
          }
         },
         "children": [
          {
           "attributes": {
            "scoped": "scoped",
            "type": "text/css"
           },
           "children": [
            "\n                        @keyframes pb-fill-anim {\n                            0% { background-position: 0 0; }\n                            100% { background-position: 100px 0; }\n                        }}"
           ],
           "tagName": "style"
          },
          " "
         ],
         "tagName": "div"
        }
       ],
       "tagName": "div"
      },
      "text/html": [
       "<script>\n",
       "              (function () {\n",
       "                  var root = document.getElementById('c8b7b68a-807c-477e-96e2-0c839884a0cf');\n",
       "                  var text = root.getElementsByClassName('pb-text')[0];\n",
       "                  var fill = root.getElementsByClassName('pb-fill')[0];\n",
       "\n",
       "                  text.innerHTML = 'Build finished in 0:00:01.';\n",
       "                  \n",
       "            fill.style.width = '100%';\n",
       "            fill.style.animation = 'pb-fill-anim 2s linear infinite';\n",
       "            fill.style.backgroundSize = '100px 100%';\n",
       "            fill.style.backgroundImage = 'repeating-linear-gradient(' +\n",
       "                '90deg, #bdd2e6, #edf2f8 40%, #bdd2e6 80%, #bdd2e6)';\n",
       "        \n",
       "                  \n",
       "                fill.style.animation = 'none';\n",
       "                fill.style.backgroundImage = 'none';\n",
       "            \n",
       "              })();\n",
       "        </script>"
      ]
     },
     "metadata": {},
     "output_type": "display_data"
    },
    {
     "data": {
      "application/vdom.v1+json": {
       "attributes": {},
       "tagName": "div"
      },
      "text/html": [
       "\n",
       "                <script>\n",
       "                    if (Jupyter.version.split(\".\")[0] < 5) {\n",
       "                        var pb = document.getElementById(\"f15fb977-1097-4c2f-948b-fb681b4176c7\");\n",
       "                        var text = document.createTextNode(\n",
       "                            \"HTML progress bar requires Jupyter Notebook >= \" +\n",
       "                            \"5.0 or Jupyter Lab. Alternatively, you can use \" +\n",
       "                            \"TerminalProgressBar().\");\n",
       "                        pb.parentNode.insertBefore(text, pb);\n",
       "                    }\n",
       "                </script>\n",
       "                <div id=\"f15fb977-1097-4c2f-948b-fb681b4176c7\" style=\"\n",
       "                    width: 100%;\n",
       "                    border: 1px solid #cfcfcf;\n",
       "                    border-radius: 4px;\n",
       "                    text-align: center;\n",
       "                    position: relative;\">\n",
       "                  <div class=\"pb-text\" style=\"\n",
       "                      position: absolute;\n",
       "                      width: 100%;\">\n",
       "                    0%\n",
       "                  </div>\n",
       "                  <div class=\"pb-fill\" style=\"\n",
       "                      background-color: #bdd2e6;\n",
       "                      width: 0%;\">\n",
       "                    <style type=\"text/css\" scoped=\"scoped\">\n",
       "                        @keyframes pb-fill-anim {\n",
       "                            0% { background-position: 0 0; }\n",
       "                            100% { background-position: 100px 0; }\n",
       "                        }\n",
       "                    </style>\n",
       "                    &nbsp;\n",
       "                  </div>\n",
       "                </div>"
      ],
      "text/plain": [
       "HtmlProgressBar cannot be displayed. Please use the TerminalProgressBar. It can be enabled with `nengo.rc['progress']['progress_bar'] = 'nengo.utils.progress.TerminalProgressBar'`."
      ]
     },
     "metadata": {},
     "output_type": "display_data"
    },
    {
     "data": {
      "application/vdom.v1+json": {
       "attributes": {
        "id": "be1e52ce-52f2-4b47-94a4-aebb0bfcef60",
        "style": {
         "border": "1px solid #cfcfcf",
         "borderRadius": "4px",
         "boxSizing": "border-box",
         "position": "relative",
         "textAlign": "center",
         "width": "100%"
        }
       },
       "children": [
        {
         "attributes": {
          "class": "pb-text",
          "style": {
           "position": "absolute",
           "width": "100%"
          }
         },
         "children": [
          "Simulation finished in 0:00:02."
         ],
         "tagName": "div"
        },
        {
         "attributes": {
          "class": "pb-fill",
          "style": {
           "animation": "none",
           "backgroundColor": "#bdd2e6",
           "backgroundImage": "none",
           "transition": "width 0.1s linear",
           "width": "100%"
          }
         },
         "children": [
          {
           "attributes": {
            "scoped": "scoped",
            "type": "text/css"
           },
           "children": [
            "\n                        @keyframes pb-fill-anim {\n                            0% { background-position: 0 0; }\n                            100% { background-position: 100px 0; }\n                        }}"
           ],
           "tagName": "style"
          },
          " "
         ],
         "tagName": "div"
        }
       ],
       "tagName": "div"
      },
      "text/html": [
       "<script>\n",
       "              (function () {\n",
       "                  var root = document.getElementById('f15fb977-1097-4c2f-948b-fb681b4176c7');\n",
       "                  var text = root.getElementsByClassName('pb-text')[0];\n",
       "                  var fill = root.getElementsByClassName('pb-fill')[0];\n",
       "\n",
       "                  text.innerHTML = 'Simulation finished in 0:00:02.';\n",
       "                  \n",
       "            if (100.0 > 0.) {\n",
       "                fill.style.transition = 'width 0.1s linear';\n",
       "            } else {\n",
       "                fill.style.transition = 'none';\n",
       "            }\n",
       "\n",
       "            fill.style.width = '100.0%';\n",
       "            fill.style.animation = 'none';\n",
       "            fill.style.backgroundImage = 'none'\n",
       "        \n",
       "                  \n",
       "                fill.style.animation = 'none';\n",
       "                fill.style.backgroundImage = 'none';\n",
       "            \n",
       "              })();\n",
       "        </script>"
      ]
     },
     "metadata": {},
     "output_type": "display_data"
    }
   ],
   "source": [
    "with nengo.Simulator(net) as sim:\n",
    "    sim.run(20.0)"
   ]
  },
  {
   "cell_type": "code",
   "execution_count": 121,
   "id": "4e323de7-6491-4bba-8faf-b78bf5bc92ce",
   "metadata": {},
   "outputs": [],
   "source": [
    "def inhibit_error(t):\n",
    "    if(t < 2.0): # inhibit initally \n",
    "        return(2.0)\n",
    "    elif(t < 9.0): # turn on learning\n",
    "        return(0.0)\n",
    "    elif( 13 <= t <= 18):\n",
    "        return(0.0)\n",
    "    else: # inhibit after 10s\n",
    "        return(2.0)\n",
    "    \n",
    "\n",
    "def target_signal(t):\n",
    "    if(t < 10.0):\n",
    "        return(rB)\n",
    "    elif(t < 20):\n",
    "        return(rB2)\n",
    "    else:\n",
    "        return(rB)\n",
    "    \n"
   ]
  },
  {
   "cell_type": "code",
   "execution_count": 122,
   "id": "aff72b4a-e8ac-4d7d-a1c1-a5f11be4babd",
   "metadata": {},
   "outputs": [],
   "source": [
    "with net:\n",
    "    target = nengo.Node(output=target_signal, size_out=k)\n",
    "    target_p = nengo.Probe(target)\n",
    "\n",
    "    error = nengo.Ensemble(N, k)\n",
    "    error_p = nengo.Probe(error, synapse=0.03)\n",
    "    # Error = actual - target = B - rB\n",
    "    nengo.Connection(B, error)\n",
    "    nengo.Connection(target, error, transform=-1)\n",
    "\n",
    "    # Add the learning rule to the connection\n",
    "    conn.learning_rule_type = nengo.PES()\n",
    "\n",
    "    # Connect the error into the learning rule\n",
    "    nengo.Connection(error, conn.learning_rule)\n",
    "    # inhibit error signal after 10 seconds\n",
    "    inhib = nengo.Node(inhibit_error)\n",
    "    nengo.Connection(inhib, error.neurons, transform=[[-1]] * error.n_neurons) # -1 to ensure signal is inhibitory"
   ]
  },
  {
   "cell_type": "code",
   "execution_count": 123,
   "id": "e932eb16-c150-4a99-95e0-a06c5abdaa9e",
   "metadata": {},
   "outputs": [
    {
     "data": {
      "application/vdom.v1+json": {
       "attributes": {},
       "tagName": "div"
      },
      "text/html": [
       "\n",
       "                <script>\n",
       "                    if (Jupyter.version.split(\".\")[0] < 5) {\n",
       "                        var pb = document.getElementById(\"083cffbb-c372-4e12-866b-0df0d78ffdd4\");\n",
       "                        var text = document.createTextNode(\n",
       "                            \"HTML progress bar requires Jupyter Notebook >= \" +\n",
       "                            \"5.0 or Jupyter Lab. Alternatively, you can use \" +\n",
       "                            \"TerminalProgressBar().\");\n",
       "                        pb.parentNode.insertBefore(text, pb);\n",
       "                    }\n",
       "                </script>\n",
       "                <div id=\"083cffbb-c372-4e12-866b-0df0d78ffdd4\" style=\"\n",
       "                    width: 100%;\n",
       "                    border: 1px solid #cfcfcf;\n",
       "                    border-radius: 4px;\n",
       "                    text-align: center;\n",
       "                    position: relative;\">\n",
       "                  <div class=\"pb-text\" style=\"\n",
       "                      position: absolute;\n",
       "                      width: 100%;\">\n",
       "                    0%\n",
       "                  </div>\n",
       "                  <div class=\"pb-fill\" style=\"\n",
       "                      background-color: #bdd2e6;\n",
       "                      width: 0%;\">\n",
       "                    <style type=\"text/css\" scoped=\"scoped\">\n",
       "                        @keyframes pb-fill-anim {\n",
       "                            0% { background-position: 0 0; }\n",
       "                            100% { background-position: 100px 0; }\n",
       "                        }\n",
       "                    </style>\n",
       "                    &nbsp;\n",
       "                  </div>\n",
       "                </div>"
      ],
      "text/plain": [
       "HtmlProgressBar cannot be displayed. Please use the TerminalProgressBar. It can be enabled with `nengo.rc['progress']['progress_bar'] = 'nengo.utils.progress.TerminalProgressBar'`."
      ]
     },
     "metadata": {},
     "output_type": "display_data"
    },
    {
     "data": {
      "application/vdom.v1+json": {
       "attributes": {
        "id": "463839df-81fc-434b-a486-7886bafa2b29",
        "style": {
         "border": "1px solid #cfcfcf",
         "borderRadius": "4px",
         "boxSizing": "border-box",
         "position": "relative",
         "textAlign": "center",
         "width": "100%"
        }
       },
       "children": [
        {
         "attributes": {
          "class": "pb-text",
          "style": {
           "position": "absolute",
           "width": "100%"
          }
         },
         "children": [
          "Build finished in 0:00:01."
         ],
         "tagName": "div"
        },
        {
         "attributes": {
          "class": "pb-fill",
          "style": {
           "animation": "none",
           "backgroundColor": "#bdd2e6",
           "backgroundImage": "none",
           "backgroundSize": "100px 100%",
           "width": "100%"
          }
         },
         "children": [
          {
           "attributes": {
            "scoped": "scoped",
            "type": "text/css"
           },
           "children": [
            "\n                        @keyframes pb-fill-anim {\n                            0% { background-position: 0 0; }\n                            100% { background-position: 100px 0; }\n                        }}"
           ],
           "tagName": "style"
          },
          " "
         ],
         "tagName": "div"
        }
       ],
       "tagName": "div"
      },
      "text/html": [
       "<script>\n",
       "              (function () {\n",
       "                  var root = document.getElementById('083cffbb-c372-4e12-866b-0df0d78ffdd4');\n",
       "                  var text = root.getElementsByClassName('pb-text')[0];\n",
       "                  var fill = root.getElementsByClassName('pb-fill')[0];\n",
       "\n",
       "                  text.innerHTML = 'Build finished in 0:00:01.';\n",
       "                  \n",
       "            fill.style.width = '100%';\n",
       "            fill.style.animation = 'pb-fill-anim 2s linear infinite';\n",
       "            fill.style.backgroundSize = '100px 100%';\n",
       "            fill.style.backgroundImage = 'repeating-linear-gradient(' +\n",
       "                '90deg, #bdd2e6, #edf2f8 40%, #bdd2e6 80%, #bdd2e6)';\n",
       "        \n",
       "                  \n",
       "                fill.style.animation = 'none';\n",
       "                fill.style.backgroundImage = 'none';\n",
       "            \n",
       "              })();\n",
       "        </script>"
      ]
     },
     "metadata": {},
     "output_type": "display_data"
    },
    {
     "data": {
      "application/vdom.v1+json": {
       "attributes": {},
       "tagName": "div"
      },
      "text/html": [
       "\n",
       "                <script>\n",
       "                    if (Jupyter.version.split(\".\")[0] < 5) {\n",
       "                        var pb = document.getElementById(\"22342378-6887-4ea5-99e1-3b2b4b5e96ca\");\n",
       "                        var text = document.createTextNode(\n",
       "                            \"HTML progress bar requires Jupyter Notebook >= \" +\n",
       "                            \"5.0 or Jupyter Lab. Alternatively, you can use \" +\n",
       "                            \"TerminalProgressBar().\");\n",
       "                        pb.parentNode.insertBefore(text, pb);\n",
       "                    }\n",
       "                </script>\n",
       "                <div id=\"22342378-6887-4ea5-99e1-3b2b4b5e96ca\" style=\"\n",
       "                    width: 100%;\n",
       "                    border: 1px solid #cfcfcf;\n",
       "                    border-radius: 4px;\n",
       "                    text-align: center;\n",
       "                    position: relative;\">\n",
       "                  <div class=\"pb-text\" style=\"\n",
       "                      position: absolute;\n",
       "                      width: 100%;\">\n",
       "                    0%\n",
       "                  </div>\n",
       "                  <div class=\"pb-fill\" style=\"\n",
       "                      background-color: #bdd2e6;\n",
       "                      width: 0%;\">\n",
       "                    <style type=\"text/css\" scoped=\"scoped\">\n",
       "                        @keyframes pb-fill-anim {\n",
       "                            0% { background-position: 0 0; }\n",
       "                            100% { background-position: 100px 0; }\n",
       "                        }\n",
       "                    </style>\n",
       "                    &nbsp;\n",
       "                  </div>\n",
       "                </div>"
      ],
      "text/plain": [
       "HtmlProgressBar cannot be displayed. Please use the TerminalProgressBar. It can be enabled with `nengo.rc['progress']['progress_bar'] = 'nengo.utils.progress.TerminalProgressBar'`."
      ]
     },
     "metadata": {},
     "output_type": "display_data"
    },
    {
     "data": {
      "application/vdom.v1+json": {
       "attributes": {
        "id": "98d3f4ca-612e-40d3-b92f-bb000c695560",
        "style": {
         "border": "1px solid #cfcfcf",
         "borderRadius": "4px",
         "boxSizing": "border-box",
         "position": "relative",
         "textAlign": "center",
         "width": "100%"
        }
       },
       "children": [
        {
         "attributes": {
          "class": "pb-text",
          "style": {
           "position": "absolute",
           "width": "100%"
          }
         },
         "children": [
          "Simulation finished in 0:00:06."
         ],
         "tagName": "div"
        },
        {
         "attributes": {
          "class": "pb-fill",
          "style": {
           "animation": "none",
           "backgroundColor": "#bdd2e6",
           "backgroundImage": "none",
           "transition": "width 0.1s linear",
           "width": "100%"
          }
         },
         "children": [
          {
           "attributes": {
            "scoped": "scoped",
            "type": "text/css"
           },
           "children": [
            "\n                        @keyframes pb-fill-anim {\n                            0% { background-position: 0 0; }\n                            100% { background-position: 100px 0; }\n                        }}"
           ],
           "tagName": "style"
          },
          " "
         ],
         "tagName": "div"
        }
       ],
       "tagName": "div"
      },
      "text/html": [
       "<script>\n",
       "              (function () {\n",
       "                  var root = document.getElementById('22342378-6887-4ea5-99e1-3b2b4b5e96ca');\n",
       "                  var text = root.getElementsByClassName('pb-text')[0];\n",
       "                  var fill = root.getElementsByClassName('pb-fill')[0];\n",
       "\n",
       "                  text.innerHTML = 'Simulation finished in 0:00:06.';\n",
       "                  \n",
       "            if (100.0 > 0.) {\n",
       "                fill.style.transition = 'width 0.1s linear';\n",
       "            } else {\n",
       "                fill.style.transition = 'none';\n",
       "            }\n",
       "\n",
       "            fill.style.width = '100.0%';\n",
       "            fill.style.animation = 'none';\n",
       "            fill.style.backgroundImage = 'none'\n",
       "        \n",
       "                  \n",
       "                fill.style.animation = 'none';\n",
       "                fill.style.backgroundImage = 'none';\n",
       "            \n",
       "              })();\n",
       "        </script>"
      ]
     },
     "metadata": {},
     "output_type": "display_data"
    }
   ],
   "source": [
    "with nengo.Simulator(net) as sim:\n",
    "    sim.run(34.0)"
   ]
  },
  {
   "cell_type": "code",
   "execution_count": 136,
   "id": "003452ba-8087-4e1a-afd1-4e40ca896c43",
   "metadata": {},
   "outputs": [
    {
     "data": {
      "image/png": "[encoded data removed]",
      "text/plain": [
       "<Figure size 640x480 with 1 Axes>"
      ]
     },
     "metadata": {},
     "output_type": "display_data"
    }
   ],
   "source": [
    "d = 4\n",
    "plt.plot(sim.trange(), smooth_ts(sim.data[A_p].T[d]), label='A', color='orange')\n",
    "plt.plot(sim.trange(), sim.data[stim_p].T[d], label='STIM', color='blue')\n",
    "\n",
    "\n",
    "plt.ylabel(f\"Dimension {d}\")\n",
    "plt.legend(loc=\"best\")\n",
    "plt.savefig(\"Stim12_Project_op\")\n",
    "plt.title(f\"Formation of Two Assemblies\")\n",
    "plt.show()"
   ]
  },
  {
   "cell_type": "code",
   "execution_count": 145,
   "id": "e62312ea-67e6-416e-bd97-dc640edb7a4c",
   "metadata": {},
   "outputs": [
    {
     "data": {
      "image/png": "[encoded data removed]",
      "text/plain": [
       "<Figure size 640x480 with 1 Axes>"
      ]
     },
     "metadata": {},
     "output_type": "display_data"
    }
   ],
   "source": [
    "d = 4\n",
    "\n",
    "plt.plot(sim.trange(), smooth_ts(sim.data[B_p].T[d], sigma=1.5), label='B', c='r')\n",
    "plt.plot(sim.trange(), sim.data[target_p].T[d], label='target', c='g')\n",
    "\n",
    "# Add vertical lines at t=3 and t=10\n",
    "plt.axvline(x=2, color='blue', linestyle='dotted', label='PROJECT 1')\n",
    "plt.axvline(x=9, color='purple', linestyle='dotted', label='END')\n",
    "\n",
    "plt.axvline(x=13, color='blue', linestyle='dotted', label='PROJECT 2')\n",
    "plt.axvline(x=18, color='purple', linestyle='dotted', label='END')\n",
    "\n",
    "plt.title(\"Learning Projected Assembly A--> B\")\n",
    "\n",
    "plt.ylabel(f\"Dimension {d} of Area B\")\n",
    "plt.legend(loc=\"best\")\n",
    "plt.savefig(\"project_op3.png\")\n",
    "plt.show()"
   ]
  },
  {
   "cell_type": "code",
   "execution_count": 64,
   "id": "6299f628-9590-4fac-8f5b-53e93f9673d7",
   "metadata": {},
   "outputs": [
    {
     "data": {
      "text/plain": [
       "[<matplotlib.lines.Line2D at 0x2864a4fd0>]"
      ]
     },
     "execution_count": 64,
     "metadata": {},
     "output_type": "execute_result"
    },
    {
     "data": {
      "image/png": "[encoded data removed]",
      "text/plain": [
       "<Figure size 640x480 with 1 Axes>"
      ]
     },
     "metadata": {},
     "output_type": "display_data"
    }
   ],
   "source": [
    "plt.plot(sim.trange(), sim.data[error_p].T[d], label='error', c='black')"
   ]
  },
  {
   "cell_type": "code",
   "execution_count": 23,
   "id": "135383d4-4c9f-4b41-bedf-fd32b7157ce2",
   "metadata": {},
   "outputs": [],
   "source": [
    "def plot_res(sim, dims_to_observe, probes, trange=range(-100, 0), colors=\"k b r g\".split(), save=False):\n",
    "    D = len(dims_to_observe)\n",
    "    plt.figure(figsize=(6*D, 8))\n",
    "    for i, d in enumerate(dims_to_observe):\n",
    "        plt.subplot(D, 1, i+1)\n",
    "        for i, (name, probe) in enumerate(probes.items()):\n",
    "            plt.plot(sim.trange()[trange], sim.data[probe].T[d][trange], c=colors[i], label=name)\n",
    "        plt.ylabel(f\"Dimension {d}\")\n",
    "        plt.legend(loc=\"best\")\n",
    "    plt.title(\"Learning To Project NEMO Assembly\")\n",
    "    if(save):\n",
    "        plt.savefig('nengo_project.png')\n",
    "    plt.show()"
   ]
  },
  {
   "cell_type": "code",
   "execution_count": 26,
   "id": "b2b5bd87-b878-4094-a1fd-658971a46ccd",
   "metadata": {},
   "outputs": [
    {
     "data": {
      "image/png": "[encoded data removed]",
      "text/plain": [
       "<Figure size 1200x800 with 2 Axes>"
      ]
     },
     "metadata": {},
     "output_type": "display_data"
    }
   ],
   "source": [
    "plot_res(sim, [0, 1], dict(A=A_p, stim=stim_p, B=B_p, target=target_p), colors=\"blue orange r g\".split(), save=False, trange=range(0,100))"
   ]
  },
  {
   "cell_type": "code",
   "execution_count": 77,
   "id": "299ddb56-3a07-4e78-858d-9e11da999d11",
   "metadata": {},
   "outputs": [
    {
     "data": {
      "text/plain": [
       "(20000, 5)"
      ]
     },
     "execution_count": 77,
     "metadata": {},
     "output_type": "execute_result"
    }
   ],
   "source": [
    "sim.data[error_p].shape"
   ]
  },
  {
   "cell_type": "code",
   "execution_count": 39,
   "id": "352e80c0-6eac-4fff-b6fc-95f9f0d850f4",
   "metadata": {},
   "outputs": [
    {
     "data": {
      "image/png": "[encoded data removed]",
      "text/plain": [
       "<Figure size 640x480 with 1 Axes>"
      ]
     },
     "metadata": {},
     "output_type": "display_data"
    }
   ],
   "source": [
    "plt.plot(sim.trange(), sim.data[error_p].T[0], c='black', label='error')\n",
    "plt.show()"
   ]
  },
  {
   "cell_type": "code",
   "execution_count": null,
   "id": "968abb42-61b8-47a1-94d9-aab4b80f977e",
   "metadata": {},
   "outputs": [],
   "source": []
  },
  {
   "cell_type": "markdown",
   "id": "d467454d",
   "metadata": {},
   "source": [
    "# Experiment Two : Direct Connections"
   ]
  },
  {
   "cell_type": "code",
   "execution_count": 54,
   "id": "c344c561",
   "metadata": {},
   "outputs": [],
   "source": [
    "N = 200\n",
    "k = 5\n",
    "beta = 0.05\n",
    "p = 0.1 "
   ]
  },
  {
   "cell_type": "code",
   "execution_count": 46,
   "id": "88f88b6b",
   "metadata": {},
   "outputs": [
    {
     "name": "stdout",
     "output_type": "stream",
     "text": [
      "Projecting STIM  and  into A\n",
      "Projecting   and A into B\n",
      "Projecting STIM  and  into A\n",
      "Projecting STIM  and  into A\n",
      "Projecting   and A into B\n",
      "Projecting STIM  and  into A\n",
      "Projecting STIM  and  into A\n",
      "Projecting   and A into B\n",
      "Projecting STIM  and  into A\n"
     ]
    }
   ],
   "source": [
    "nemo = brain.Brain(p, save_winners=True)\n",
    "\n",
    "nemo.add_stimulus(stimulus_name = 'STIM', size = k)\n",
    "nemo.add_explicit_area(\"A\", N, k, beta)\n",
    "nemo.add_explicit_area(\"B\", N, k, beta)\n",
    "\n",
    "t = 3\n",
    "for i in range(t):\n",
    "    nemo.project({'STIM':[\"A\"]}, {}, verbose=1)\n",
    "    if(t > 0):\n",
    "        nemo.project({'STIM':[\"A\"]}, {\"A\":[\"B\"]}, verbose=1)\n",
    "        \n",
    "sA = np.array(nemo.area_by_name['A'].winners)\n",
    "sB = np.array(nemo.area_by_name['B'].winners)"
   ]
  },
  {
   "cell_type": "code",
   "execution_count": 52,
   "id": "a33c36f4",
   "metadata": {},
   "outputs": [],
   "source": [
    "Wab = nemo.connectomes['A']['B']"
   ]
  },
  {
   "cell_type": "code",
   "execution_count": 41,
   "id": "3a510db0",
   "metadata": {},
   "outputs": [],
   "source": [
    "def create_area_connections(Na, Nb, seed=0, p=0.1):\n",
    "    _rng = np.random.default_rng(seed=seed) \n",
    "    Wab = _rng.binomial(1, p, size=(Nb, Na)).astype(np.float32)\n",
    "    Wba = _rng.binomial(1, p, size=(Na, Nb)).astype(np.float32)\n",
    "    return(Wab, Wba)\n",
    "\n",
    "def create_stim_connections(stim_size, N, seed=0, p=0.1):\n",
    "    _rng = np.random.default_rng(seed=seed) \n",
    "    return(_rng.binomial(stim_size, p, size=N).astype(np.float32))"
   ]
  },
  {
   "cell_type": "code",
   "execution_count": 53,
   "id": "b195dea4",
   "metadata": {},
   "outputs": [
    {
     "ename": "AttributeError",
     "evalue": "'Ensemble' object has no attribute 'num_neurons'",
     "output_type": "error",
     "traceback": [
      "\u001b[0;31m---------------------------------------------------------------------------\u001b[0m",
      "\u001b[0;31mAttributeError\u001b[0m                            Traceback (most recent call last)",
      "Cell \u001b[0;32mIn[53], line 24\u001b[0m\n\u001b[1;32m     21\u001b[0m B_neurons \u001b[38;5;241m=\u001b[39m nengo\u001b[38;5;241m.\u001b[39mProbe(B\u001b[38;5;241m.\u001b[39mneurons)\n\u001b[1;32m     23\u001b[0m \u001b[38;5;66;03m# Neuron to neuron\u001b[39;00m\n\u001b[0;32m---> 24\u001b[0m Wab, _ \u001b[38;5;241m=\u001b[39m create_area_connections(A\u001b[38;5;241m.\u001b[39mnum_neurons, B\u001b[38;5;241m.\u001b[39mnum_neurons, seed\u001b[38;5;241m=\u001b[39m\u001b[38;5;241m47\u001b[39m, p\u001b[38;5;241m=\u001b[39m\u001b[38;5;241m0.1\u001b[39m)\n\u001b[1;32m     25\u001b[0m nengo\u001b[38;5;241m.\u001b[39mConnection(A\u001b[38;5;241m.\u001b[39mneurons, B\u001b[38;5;241m.\u001b[39mneurons, transform\u001b[38;5;241m=\u001b[39mWab)\n",
      "\u001b[0;31mAttributeError\u001b[0m: 'Ensemble' object has no attribute 'num_neurons'"
     ]
    }
   ],
   "source": [
    "\n",
    "\n",
    "def input_signal(t):\n",
    "    if(t < 10.0):\n",
    "        return(rA)\n",
    "    elif(t < 15.0):\n",
    "        return(np.random.normal(loc=0.0, scale=0.707, size=k))\n",
    "    else:\n",
    "        return(rA)\n",
    "\n",
    "with nengo.Network() as net:\n",
    "    stim = nengo.Node(output=input_signal, size_out=k)\n",
    "    stim_p = nengo.Probe(stim)\n",
    "    \n",
    "    A = nengo.Ensemble(N, dimensions=k, label='A')\n",
    "    A_p = nengo.Probe(A)\n",
    "    A_neurons = nengo.Probe(A.neurons)\n",
    "    \n",
    "    B = nengo.Ensemble(N, dimensions=k, label='B')\n",
    "    B_p = nengo.Probe(B)\n",
    "    B_neurons = nengo.Probe(B.neurons)\n",
    "\n",
    "    # Neuron to neuron\n",
    "    #Wab, _ = create_area_connections(A.num_neurons, B.num_neurons, seed=47, p=0.1)\n",
    "    Wab = nemo.connectomes['A']['B']\n",
    "    nengo.Connection(A.neurons, B.neurons, transform=Wab)"
   ]
  },
  {
   "cell_type": "code",
   "execution_count": null,
   "id": "17c90578",
   "metadata": {},
   "outputs": [],
   "source": [
    "net = nengo.Network()\n",
    "with net:\n",
    "    stim = nengo.Node(output=input_signal, size_out=k)\n",
    "    stim_p = nengo.Probe(stim)\n",
    "    \n",
    "    A = nengo.Ensemble(n_neurons=N, dimensions=k, encoders=Ea, intercepts=Ia, label='A')#, gain=np.diag(np.ones(N)), bias=np.zeros(N))\n",
    "    A_p = nengo.Probe(A)\n",
    "    A_neurons = nengo.Probe(A.neurons)\n",
    "    \n",
    "    B = nengo.Ensemble(n_neurons=N, dimensions=k, encoders=Eb, intercepts=Ib, label='B')\n",
    "    B_p = nengo.Probe(B)\n",
    "    B_neurons = nengo.Probe(B.neurons)\n",
    "\n",
    "    nengo.Connection(stim, A)\n",
    "    conn = nengo.Connection(A, B, function=lambda t : 0.2 * np.random.random(k))\n",
    "\n",
    "    target = nengo.Node(output=rB)\n",
    "    target_p = nengo.Probe(target)"
   ]
  },
  {
   "cell_type": "code",
   "execution_count": null,
   "id": "5a6f790f",
   "metadata": {},
   "outputs": [],
   "source": [
    "def input_signal(t):\n",
    "    if(t < 10.0):\n",
    "        return(rA)\n",
    "    elif(t < 15.0):\n",
    "        return(np.random.normal(loc=0.0, scale=0.707, size=k))\n",
    "    else:\n",
    "        return(rA)\n",
    "    \n",
    "def inhibit_error(t):\n",
    "    if(t < 3.0): # inhibit initally \n",
    "        return(2.0)\n",
    "    elif(t < 10.0): # turn on\n",
    "        return(0.0)\n",
    "    else: # inhibit after 10s\n",
    "        return(2.0)"
   ]
  },
  {
   "cell_type": "code",
   "execution_count": null,
   "id": "aa3b422e",
   "metadata": {},
   "outputs": [],
   "source": [
    "with net:\n",
    "    error = nengo.Ensemble(N, k)\n",
    "    error_p = nengo.Probe(error, synapse=0.03)\n",
    "    # Error = actual - target = B - rB\n",
    "    nengo.Connection(B, error)\n",
    "    nengo.Connection(target, error, transform=-1)\n",
    "\n",
    "    # Add the learning rule to the connection\n",
    "    conn.learning_rule_type = nengo.PES()\n",
    "\n",
    "    # Connect the error into the learning rule\n",
    "    nengo.Connection(error, conn.learning_rule)\n",
    "    # inhibit error signal after 10 seconds\n",
    "    inhib = nengo.Node(inhibit_error)\n",
    "    nengo.Connection(inhib, error.neurons, transform=[[-1]] * error.n_neurons) # -1 to ensure signal is inhibitory"
   ]
  }
 ],
 "metadata": {
  "kernelspec": {
   "display_name": "Python 3 (ipykernel)",
   "language": "python",
   "name": "python3"
  },
  "language_info": {
   "codemirror_mode": {
    "name": "ipython",
    "version": 3
   },
   "file_extension": ".py",
   "mimetype": "text/x-python",
   "name": "python",
   "nbconvert_exporter": "python",
   "pygments_lexer": "ipython3",
   "version": "3.11.0"
  }
 },
 "nbformat": 4,
 "nbformat_minor": 5
}
