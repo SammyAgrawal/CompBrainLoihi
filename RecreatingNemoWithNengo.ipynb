{
 "cells": [
  {
   "cell_type": "code",
   "execution_count": 264,
   "id": "3d1a866e-8ab8-4950-9d29-9bbc24a10b02",
   "metadata": {},
   "outputs": [],
   "source": [
    "import matplotlib.pyplot as plt\n",
    "import numpy as np\n",
    "import collections\n",
    "import nengo\n",
    "from nengo.utils.matplotlib import rasterplot"
   ]
  },
  {
   "cell_type": "code",
   "execution_count": 19,
   "id": "e4a269ff-5c0f-4d6f-a064-3d9e8a7f7f4d",
   "metadata": {},
   "outputs": [],
   "source": [
    "import sys\n",
    "sys.path.append('/Users/samart/Desktop/Neuro/SNNs/assemblies')"
   ]
  },
  {
   "cell_type": "code",
   "execution_count": 20,
   "id": "9dd708f3-aaea-441e-a58e-9332cf1fc25c",
   "metadata": {},
   "outputs": [],
   "source": [
    "import brain"
   ]
  },
  {
   "cell_type": "markdown",
   "id": "226780b5-9095-4ea2-8462-fa363944df9b",
   "metadata": {},
   "source": [
    "## Assembly Creation in NEMO"
   ]
  },
  {
   "cell_type": "code",
   "execution_count": 160,
   "id": "7a6d40aa-404e-492e-b246-cee7a6293a78",
   "metadata": {},
   "outputs": [],
   "source": [
    "N = 1000\n",
    "k = 10\n",
    "beta = 0.05\n",
    "p = 0.01 \n"
   ]
  },
  {
   "cell_type": "code",
   "execution_count": 72,
   "id": "cc32302e-17b0-4c21-99f0-7cb7a80d3e81",
   "metadata": {},
   "outputs": [],
   "source": [
    "nemo = brain.Brain(p, save_winners=True)\n",
    "\n",
    "nemo.add_stimulus(stimulus_name = 'STIM', size = k)\n",
    "nemo.add_explicit_area(\"A\", N, k, beta)\n",
    "nemo.add_explicit_area(\"B\", N, k, beta)"
   ]
  },
  {
   "cell_type": "markdown",
   "id": "cb55db97-c60a-4d74-a8b2-5d7fd9a1f9ec",
   "metadata": {
    "jp-MarkdownHeadingCollapsed": true
   },
   "source": [
    "### Creating Stimulus Assembly into A"
   ]
  },
  {
   "cell_type": "code",
   "execution_count": 74,
   "id": "b686f197-8dc0-4de1-aad2-23ec6405ecfa",
   "metadata": {},
   "outputs": [
    {
     "name": "stdout",
     "output_type": "stream",
     "text": [
      "Projecting STIM  and  into A\n",
      "prev_winner_inputs: [1. 0. 0. ... 0. 2. 0.]\n",
      "new_winners: [6138, 5448, 9960, 530, 2305, 2640, 3217, 3390, 3416, 3587, 3913, 3928, 6376, 6528, 6756, 6983, 7082, 8665, 9980, 26, 77, 171, 239, 252, 308, 349, 405, 736, 745, 762, 799, 812, 1132, 1287, 1329, 1378, 1395, 1422, 1454, 1462, 1709, 1753, 1878, 1919, 1921, 2065, 2123, 2140, 2214, 2283]\n",
      "STIM now looks like: \n",
      "[1. 0. 0. ... 0. 2. 0.]\n",
      "Connectome of 'A' to 'A' is now: [[0. 0. 0. ... 0. 0. 0.]\n",
      " [0. 0. 0. ... 0. 0. 0.]\n",
      " [0. 0. 0. ... 0. 0. 0.]\n",
      " ...\n",
      " [0. 0. 0. ... 0. 0. 0.]\n",
      " [0. 0. 0. ... 0. 0. 0.]\n",
      " [0. 0. 0. ... 0. 0. 0.]]\n",
      "Connectome of 'A' to 'B' is now: [[0. 0. 0. ... 0. 0. 0.]\n",
      " [0. 0. 0. ... 0. 0. 0.]\n",
      " [0. 1. 0. ... 0. 0. 0.]\n",
      " ...\n",
      " [0. 0. 0. ... 0. 0. 0.]\n",
      " [0. 0. 0. ... 0. 0. 0.]\n",
      " [0. 0. 0. ... 0. 0. 0.]]\n",
      "Projecting STIM  and  into A\n",
      "prev_winner_inputs: [1. 0. 0. ... 0. 2. 0.]\n",
      "new_winners: [6138, 5448, 9960, 530, 2305, 2640, 3217, 3390, 3416, 3587, 3913, 3928, 6376, 6528, 6756, 6983, 7082, 8665, 9980, 26, 77, 171, 239, 252, 308, 349, 405, 736, 745, 762, 799, 812, 1132, 1287, 1329, 1378, 1395, 1422, 1454, 1462, 1709, 1753, 1878, 1919, 1921, 2065, 2123, 2140, 2214, 2283]\n",
      "STIM now looks like: \n",
      "[1. 0. 0. ... 0. 2. 0.]\n",
      "Connectome of 'A' to 'A' is now: [[0. 0. 0. ... 0. 0. 0.]\n",
      " [0. 0. 0. ... 0. 0. 0.]\n",
      " [0. 0. 0. ... 0. 0. 0.]\n",
      " ...\n",
      " [0. 0. 0. ... 0. 0. 0.]\n",
      " [0. 0. 0. ... 0. 0. 0.]\n",
      " [0. 0. 0. ... 0. 0. 0.]]\n",
      "Connectome of 'A' to 'B' is now: [[0. 0. 0. ... 0. 0. 0.]\n",
      " [0. 0. 0. ... 0. 0. 0.]\n",
      " [0. 1. 0. ... 0. 0. 0.]\n",
      " ...\n",
      " [0. 0. 0. ... 0. 0. 0.]\n",
      " [0. 0. 0. ... 0. 0. 0.]\n",
      " [0. 0. 0. ... 0. 0. 0.]]\n",
      "Projecting   and A into B\n",
      "prev_winner_inputs: [0. 2. 1. ... 1. 3. 0.]\n",
      "new_winners: [252, 350, 726, 2634, 4149, 4918, 5402, 5643, 6202, 6695, 6925, 7160, 7197, 7838, 7915, 9296, 9321, 9498, 438, 566, 667, 755, 773, 786, 795, 898, 1064, 1124, 1216, 1238, 1339, 1415, 1687, 1940, 2036, 2066, 2069, 2084, 2137, 2160, 2161, 2344, 2368, 2380, 2515, 2643, 2687, 2763, 2834, 2840]\n",
      "Connectome of A to B is now: [[0. 0. 0. ... 0. 0. 0.]\n",
      " [0. 0. 0. ... 0. 0. 0.]\n",
      " [0. 1. 0. ... 0. 0. 0.]\n",
      " ...\n",
      " [0. 0. 0. ... 0. 0. 0.]\n",
      " [0. 0. 0. ... 0. 0. 0.]\n",
      " [0. 0. 0. ... 0. 0. 0.]]\n",
      "Connectome of 'B' to 'A' is now: [[0. 0. 0. ... 0. 0. 0.]\n",
      " [0. 0. 0. ... 0. 0. 0.]\n",
      " [0. 0. 0. ... 0. 0. 0.]\n",
      " ...\n",
      " [0. 0. 0. ... 0. 0. 0.]\n",
      " [0. 0. 0. ... 0. 0. 0.]\n",
      " [1. 0. 0. ... 0. 0. 0.]]\n",
      "Connectome of 'B' to 'B' is now: [[0. 0. 0. ... 0. 0. 0.]\n",
      " [0. 0. 0. ... 0. 0. 0.]\n",
      " [0. 0. 0. ... 0. 0. 0.]\n",
      " ...\n",
      " [0. 0. 0. ... 0. 0. 0.]\n",
      " [0. 0. 0. ... 0. 0. 0.]\n",
      " [0. 0. 0. ... 0. 0. 0.]]\n",
      "Projecting STIM  and  into A\n",
      "prev_winner_inputs: [1. 0. 0. ... 0. 2. 0.]\n",
      "new_winners: [6138, 5448, 9960, 530, 2305, 2640, 3217, 3390, 3416, 3587, 3913, 3928, 6376, 6528, 6756, 6983, 7082, 8665, 9980, 26, 77, 171, 239, 252, 308, 349, 405, 736, 745, 762, 799, 812, 1132, 1287, 1329, 1378, 1395, 1422, 1454, 1462, 1709, 1753, 1878, 1919, 1921, 2065, 2123, 2140, 2214, 2283]\n",
      "STIM now looks like: \n",
      "[1. 0. 0. ... 0. 2. 0.]\n",
      "Connectome of 'A' to 'A' is now: [[0. 0. 0. ... 0. 0. 0.]\n",
      " [0. 0. 0. ... 0. 0. 0.]\n",
      " [0. 0. 0. ... 0. 0. 0.]\n",
      " ...\n",
      " [0. 0. 0. ... 0. 0. 0.]\n",
      " [0. 0. 0. ... 0. 0. 0.]\n",
      " [0. 0. 0. ... 0. 0. 0.]]\n",
      "Connectome of 'A' to 'B' is now: [[0. 0. 0. ... 0. 0. 0.]\n",
      " [0. 0. 0. ... 0. 0. 0.]\n",
      " [0. 1. 0. ... 0. 0. 0.]\n",
      " ...\n",
      " [0. 0. 0. ... 0. 0. 0.]\n",
      " [0. 0. 0. ... 0. 0. 0.]\n",
      " [0. 0. 0. ... 0. 0. 0.]]\n",
      "Projecting STIM  and  into A\n",
      "prev_winner_inputs: [1. 0. 0. ... 0. 2. 0.]\n",
      "new_winners: [6138, 5448, 9960, 530, 2305, 2640, 3217, 3390, 3416, 3587, 3913, 3928, 6376, 6528, 6756, 6983, 7082, 8665, 9980, 26, 77, 171, 239, 252, 308, 349, 405, 736, 745, 762, 799, 812, 1132, 1287, 1329, 1378, 1395, 1422, 1454, 1462, 1709, 1753, 1878, 1919, 1921, 2065, 2123, 2140, 2214, 2283]\n",
      "STIM now looks like: \n",
      "[1. 0. 0. ... 0. 2. 0.]\n",
      "Connectome of 'A' to 'A' is now: [[0. 0. 0. ... 0. 0. 0.]\n",
      " [0. 0. 0. ... 0. 0. 0.]\n",
      " [0. 0. 0. ... 0. 0. 0.]\n",
      " ...\n",
      " [0. 0. 0. ... 0. 0. 0.]\n",
      " [0. 0. 0. ... 0. 0. 0.]\n",
      " [0. 0. 0. ... 0. 0. 0.]]\n",
      "Connectome of 'A' to 'B' is now: [[0. 0. 0. ... 0. 0. 0.]\n",
      " [0. 0. 0. ... 0. 0. 0.]\n",
      " [0. 1. 0. ... 0. 0. 0.]\n",
      " ...\n",
      " [0. 0. 0. ... 0. 0. 0.]\n",
      " [0. 0. 0. ... 0. 0. 0.]\n",
      " [0. 0. 0. ... 0. 0. 0.]]\n",
      "Projecting   and A into B\n",
      "prev_winner_inputs: [0. 2. 1. ... 1. 3. 0.]\n",
      "new_winners: [252, 350, 726, 2634, 4149, 4918, 5402, 5643, 6202, 6695, 6925, 7160, 7197, 7838, 7915, 9296, 9321, 9498, 438, 566, 667, 755, 773, 786, 795, 898, 1064, 1124, 1216, 1238, 1339, 1415, 1687, 1940, 2036, 2066, 2069, 2084, 2137, 2160, 2161, 2344, 2368, 2380, 2515, 2643, 2687, 2763, 2834, 2840]\n",
      "Connectome of A to B is now: [[0. 0. 0. ... 0. 0. 0.]\n",
      " [0. 0. 0. ... 0. 0. 0.]\n",
      " [0. 1. 0. ... 0. 0. 0.]\n",
      " ...\n",
      " [0. 0. 0. ... 0. 0. 0.]\n",
      " [0. 0. 0. ... 0. 0. 0.]\n",
      " [0. 0. 0. ... 0. 0. 0.]]\n",
      "Connectome of 'B' to 'A' is now: [[0. 0. 0. ... 0. 0. 0.]\n",
      " [0. 0. 0. ... 0. 0. 0.]\n",
      " [0. 0. 0. ... 0. 0. 0.]\n",
      " ...\n",
      " [0. 0. 0. ... 0. 0. 0.]\n",
      " [0. 0. 0. ... 0. 0. 0.]\n",
      " [1. 0. 0. ... 0. 0. 0.]]\n",
      "Connectome of 'B' to 'B' is now: [[0. 0. 0. ... 0. 0. 0.]\n",
      " [0. 0. 0. ... 0. 0. 0.]\n",
      " [0. 0. 0. ... 0. 0. 0.]\n",
      " ...\n",
      " [0. 0. 0. ... 0. 0. 0.]\n",
      " [0. 0. 0. ... 0. 0. 0.]\n",
      " [0. 0. 0. ... 0. 0. 0.]]\n",
      "Projecting STIM  and  into A\n",
      "prev_winner_inputs: [1. 0. 0. ... 0. 2. 0.]\n",
      "new_winners: [6138, 5448, 9960, 530, 2305, 2640, 3217, 3390, 3416, 3587, 3913, 3928, 6376, 6528, 6756, 6983, 7082, 8665, 9980, 26, 77, 171, 239, 252, 308, 349, 405, 736, 745, 762, 799, 812, 1132, 1287, 1329, 1378, 1395, 1422, 1454, 1462, 1709, 1753, 1878, 1919, 1921, 2065, 2123, 2140, 2214, 2283]\n",
      "STIM now looks like: \n",
      "[1. 0. 0. ... 0. 2. 0.]\n",
      "Connectome of 'A' to 'A' is now: [[0. 0. 0. ... 0. 0. 0.]\n",
      " [0. 0. 0. ... 0. 0. 0.]\n",
      " [0. 0. 0. ... 0. 0. 0.]\n",
      " ...\n",
      " [0. 0. 0. ... 0. 0. 0.]\n",
      " [0. 0. 0. ... 0. 0. 0.]\n",
      " [0. 0. 0. ... 0. 0. 0.]]\n",
      "Connectome of 'A' to 'B' is now: [[0. 0. 0. ... 0. 0. 0.]\n",
      " [0. 0. 0. ... 0. 0. 0.]\n",
      " [0. 1. 0. ... 0. 0. 0.]\n",
      " ...\n",
      " [0. 0. 0. ... 0. 0. 0.]\n",
      " [0. 0. 0. ... 0. 0. 0.]\n",
      " [0. 0. 0. ... 0. 0. 0.]]\n",
      "Projecting STIM  and  into A\n",
      "prev_winner_inputs: [1. 0. 0. ... 0. 2. 0.]\n",
      "new_winners: [6138, 5448, 9960, 530, 2305, 2640, 3217, 3390, 3416, 3587, 3913, 3928, 6376, 6528, 6756, 6983, 7082, 8665, 9980, 26, 77, 171, 239, 252, 308, 349, 405, 736, 745, 762, 799, 812, 1132, 1287, 1329, 1378, 1395, 1422, 1454, 1462, 1709, 1753, 1878, 1919, 1921, 2065, 2123, 2140, 2214, 2283]\n",
      "STIM now looks like: \n",
      "[1. 0. 0. ... 0. 2. 0.]\n",
      "Connectome of 'A' to 'A' is now: [[0. 0. 0. ... 0. 0. 0.]\n",
      " [0. 0. 0. ... 0. 0. 0.]\n",
      " [0. 0. 0. ... 0. 0. 0.]\n",
      " ...\n",
      " [0. 0. 0. ... 0. 0. 0.]\n",
      " [0. 0. 0. ... 0. 0. 0.]\n",
      " [0. 0. 0. ... 0. 0. 0.]]\n",
      "Connectome of 'A' to 'B' is now: [[0. 0. 0. ... 0. 0. 0.]\n",
      " [0. 0. 0. ... 0. 0. 0.]\n",
      " [0. 1. 0. ... 0. 0. 0.]\n",
      " ...\n",
      " [0. 0. 0. ... 0. 0. 0.]\n",
      " [0. 0. 0. ... 0. 0. 0.]\n",
      " [0. 0. 0. ... 0. 0. 0.]]\n",
      "Projecting   and A into B\n",
      "prev_winner_inputs: [0. 2. 1. ... 1. 3. 0.]\n",
      "new_winners: [252, 350, 726, 2634, 4149, 4918, 5402, 5643, 6202, 6695, 6925, 7160, 7197, 7838, 7915, 9296, 9321, 9498, 438, 566, 667, 755, 773, 786, 795, 898, 1064, 1124, 1216, 1238, 1339, 1415, 1687, 1940, 2036, 2066, 2069, 2084, 2137, 2160, 2161, 2344, 2368, 2380, 2515, 2643, 2687, 2763, 2834, 2840]\n",
      "Connectome of A to B is now: [[0. 0. 0. ... 0. 0. 0.]\n",
      " [0. 0. 0. ... 0. 0. 0.]\n",
      " [0. 1. 0. ... 0. 0. 0.]\n",
      " ...\n",
      " [0. 0. 0. ... 0. 0. 0.]\n",
      " [0. 0. 0. ... 0. 0. 0.]\n",
      " [0. 0. 0. ... 0. 0. 0.]]\n",
      "Connectome of 'B' to 'A' is now: [[0. 0. 0. ... 0. 0. 0.]\n",
      " [0. 0. 0. ... 0. 0. 0.]\n",
      " [0. 0. 0. ... 0. 0. 0.]\n",
      " ...\n",
      " [0. 0. 0. ... 0. 0. 0.]\n",
      " [0. 0. 0. ... 0. 0. 0.]\n",
      " [1. 0. 0. ... 0. 0. 0.]]\n",
      "Connectome of 'B' to 'B' is now: [[0. 0. 0. ... 0. 0. 0.]\n",
      " [0. 0. 0. ... 0. 0. 0.]\n",
      " [0. 0. 0. ... 0. 0. 0.]\n",
      " ...\n",
      " [0. 0. 0. ... 0. 0. 0.]\n",
      " [0. 0. 0. ... 0. 0. 0.]\n",
      " [0. 0. 0. ... 0. 0. 0.]]\n",
      "Projecting STIM  and  into A\n",
      "prev_winner_inputs: [1. 0. 0. ... 0. 2. 0.]\n",
      "new_winners: [6138, 5448, 9960, 530, 2305, 2640, 3217, 3390, 3416, 3587, 3913, 3928, 6376, 6528, 6756, 6983, 7082, 8665, 9980, 26, 77, 171, 239, 252, 308, 349, 405, 736, 745, 762, 799, 812, 1132, 1287, 1329, 1378, 1395, 1422, 1454, 1462, 1709, 1753, 1878, 1919, 1921, 2065, 2123, 2140, 2214, 2283]\n",
      "STIM now looks like: \n",
      "[1. 0. 0. ... 0. 2. 0.]\n",
      "Connectome of 'A' to 'A' is now: [[0. 0. 0. ... 0. 0. 0.]\n",
      " [0. 0. 0. ... 0. 0. 0.]\n",
      " [0. 0. 0. ... 0. 0. 0.]\n",
      " ...\n",
      " [0. 0. 0. ... 0. 0. 0.]\n",
      " [0. 0. 0. ... 0. 0. 0.]\n",
      " [0. 0. 0. ... 0. 0. 0.]]\n",
      "Connectome of 'A' to 'B' is now: [[0. 0. 0. ... 0. 0. 0.]\n",
      " [0. 0. 0. ... 0. 0. 0.]\n",
      " [0. 1. 0. ... 0. 0. 0.]\n",
      " ...\n",
      " [0. 0. 0. ... 0. 0. 0.]\n",
      " [0. 0. 0. ... 0. 0. 0.]\n",
      " [0. 0. 0. ... 0. 0. 0.]]\n",
      "Projecting STIM  and  into A\n",
      "prev_winner_inputs: [1. 0. 0. ... 0. 2. 0.]\n",
      "new_winners: [6138, 5448, 9960, 530, 2305, 2640, 3217, 3390, 3416, 3587, 3913, 3928, 6376, 6528, 6756, 6983, 7082, 8665, 9980, 26, 77, 171, 239, 252, 308, 349, 405, 736, 745, 762, 799, 812, 1132, 1287, 1329, 1378, 1395, 1422, 1454, 1462, 1709, 1753, 1878, 1919, 1921, 2065, 2123, 2140, 2214, 2283]\n",
      "STIM now looks like: \n",
      "[1. 0. 0. ... 0. 2. 0.]\n",
      "Connectome of 'A' to 'A' is now: [[0. 0. 0. ... 0. 0. 0.]\n",
      " [0. 0. 0. ... 0. 0. 0.]\n",
      " [0. 0. 0. ... 0. 0. 0.]\n",
      " ...\n",
      " [0. 0. 0. ... 0. 0. 0.]\n",
      " [0. 0. 0. ... 0. 0. 0.]\n",
      " [0. 0. 0. ... 0. 0. 0.]]\n",
      "Connectome of 'A' to 'B' is now: [[0. 0. 0. ... 0. 0. 0.]\n",
      " [0. 0. 0. ... 0. 0. 0.]\n",
      " [0. 1. 0. ... 0. 0. 0.]\n",
      " ...\n",
      " [0. 0. 0. ... 0. 0. 0.]\n",
      " [0. 0. 0. ... 0. 0. 0.]\n",
      " [0. 0. 0. ... 0. 0. 0.]]\n",
      "Projecting   and A into B\n",
      "prev_winner_inputs: [0. 2. 1. ... 1. 3. 0.]\n",
      "new_winners: [252, 350, 726, 2634, 4149, 4918, 5402, 5643, 6202, 6695, 6925, 7160, 7197, 7838, 7915, 9296, 9321, 9498, 438, 566, 667, 755, 773, 786, 795, 898, 1064, 1124, 1216, 1238, 1339, 1415, 1687, 1940, 2036, 2066, 2069, 2084, 2137, 2160, 2161, 2344, 2368, 2380, 2515, 2643, 2687, 2763, 2834, 2840]\n",
      "Connectome of A to B is now: [[0. 0. 0. ... 0. 0. 0.]\n",
      " [0. 0. 0. ... 0. 0. 0.]\n",
      " [0. 1. 0. ... 0. 0. 0.]\n",
      " ...\n",
      " [0. 0. 0. ... 0. 0. 0.]\n",
      " [0. 0. 0. ... 0. 0. 0.]\n",
      " [0. 0. 0. ... 0. 0. 0.]]\n",
      "Connectome of 'B' to 'A' is now: [[0. 0. 0. ... 0. 0. 0.]\n",
      " [0. 0. 0. ... 0. 0. 0.]\n",
      " [0. 0. 0. ... 0. 0. 0.]\n",
      " ...\n",
      " [0. 0. 0. ... 0. 0. 0.]\n",
      " [0. 0. 0. ... 0. 0. 0.]\n",
      " [1. 0. 0. ... 0. 0. 0.]]\n",
      "Connectome of 'B' to 'B' is now: [[0. 0. 0. ... 0. 0. 0.]\n",
      " [0. 0. 0. ... 0. 0. 0.]\n",
      " [0. 0. 0. ... 0. 0. 0.]\n",
      " ...\n",
      " [0. 0. 0. ... 0. 0. 0.]\n",
      " [0. 0. 0. ... 0. 0. 0.]\n",
      " [0. 0. 0. ... 0. 0. 0.]]\n",
      "Projecting STIM  and  into A\n",
      "prev_winner_inputs: [1. 0. 0. ... 0. 2. 0.]\n",
      "new_winners: [6138, 5448, 9960, 530, 2305, 2640, 3217, 3390, 3416, 3587, 3913, 3928, 6376, 6528, 6756, 6983, 7082, 8665, 9980, 26, 77, 171, 239, 252, 308, 349, 405, 736, 745, 762, 799, 812, 1132, 1287, 1329, 1378, 1395, 1422, 1454, 1462, 1709, 1753, 1878, 1919, 1921, 2065, 2123, 2140, 2214, 2283]\n",
      "STIM now looks like: \n",
      "[1. 0. 0. ... 0. 2. 0.]\n",
      "Connectome of 'A' to 'A' is now: [[0. 0. 0. ... 0. 0. 0.]\n",
      " [0. 0. 0. ... 0. 0. 0.]\n",
      " [0. 0. 0. ... 0. 0. 0.]\n",
      " ...\n",
      " [0. 0. 0. ... 0. 0. 0.]\n",
      " [0. 0. 0. ... 0. 0. 0.]\n",
      " [0. 0. 0. ... 0. 0. 0.]]\n",
      "Connectome of 'A' to 'B' is now: [[0. 0. 0. ... 0. 0. 0.]\n",
      " [0. 0. 0. ... 0. 0. 0.]\n",
      " [0. 1. 0. ... 0. 0. 0.]\n",
      " ...\n",
      " [0. 0. 0. ... 0. 0. 0.]\n",
      " [0. 0. 0. ... 0. 0. 0.]\n",
      " [0. 0. 0. ... 0. 0. 0.]]\n",
      "Projecting STIM  and  into A\n",
      "prev_winner_inputs: [1. 0. 0. ... 0. 2. 0.]\n",
      "new_winners: [6138, 5448, 9960, 530, 2305, 2640, 3217, 3390, 3416, 3587, 3913, 3928, 6376, 6528, 6756, 6983, 7082, 8665, 9980, 26, 77, 171, 239, 252, 308, 349, 405, 736, 745, 762, 799, 812, 1132, 1287, 1329, 1378, 1395, 1422, 1454, 1462, 1709, 1753, 1878, 1919, 1921, 2065, 2123, 2140, 2214, 2283]\n",
      "STIM now looks like: \n",
      "[1. 0. 0. ... 0. 2. 0.]\n",
      "Connectome of 'A' to 'A' is now: [[0. 0. 0. ... 0. 0. 0.]\n",
      " [0. 0. 0. ... 0. 0. 0.]\n",
      " [0. 0. 0. ... 0. 0. 0.]\n",
      " ...\n",
      " [0. 0. 0. ... 0. 0. 0.]\n",
      " [0. 0. 0. ... 0. 0. 0.]\n",
      " [0. 0. 0. ... 0. 0. 0.]]\n",
      "Connectome of 'A' to 'B' is now: [[0. 0. 0. ... 0. 0. 0.]\n",
      " [0. 0. 0. ... 0. 0. 0.]\n",
      " [0. 1. 0. ... 0. 0. 0.]\n",
      " ...\n",
      " [0. 0. 0. ... 0. 0. 0.]\n",
      " [0. 0. 0. ... 0. 0. 0.]\n",
      " [0. 0. 0. ... 0. 0. 0.]]\n",
      "Projecting   and A into B\n",
      "prev_winner_inputs: [0. 2. 1. ... 1. 3. 0.]\n",
      "new_winners: [252, 350, 726, 2634, 4149, 4918, 5402, 5643, 6202, 6695, 6925, 7160, 7197, 7838, 7915, 9296, 9321, 9498, 438, 566, 667, 755, 773, 786, 795, 898, 1064, 1124, 1216, 1238, 1339, 1415, 1687, 1940, 2036, 2066, 2069, 2084, 2137, 2160, 2161, 2344, 2368, 2380, 2515, 2643, 2687, 2763, 2834, 2840]\n",
      "Connectome of A to B is now: [[0. 0. 0. ... 0. 0. 0.]\n",
      " [0. 0. 0. ... 0. 0. 0.]\n",
      " [0. 1. 0. ... 0. 0. 0.]\n",
      " ...\n",
      " [0. 0. 0. ... 0. 0. 0.]\n",
      " [0. 0. 0. ... 0. 0. 0.]\n",
      " [0. 0. 0. ... 0. 0. 0.]]\n",
      "Connectome of 'B' to 'A' is now: [[0. 0. 0. ... 0. 0. 0.]\n",
      " [0. 0. 0. ... 0. 0. 0.]\n",
      " [0. 0. 0. ... 0. 0. 0.]\n",
      " ...\n",
      " [0. 0. 0. ... 0. 0. 0.]\n",
      " [0. 0. 0. ... 0. 0. 0.]\n",
      " [1. 0. 0. ... 0. 0. 0.]]\n",
      "Connectome of 'B' to 'B' is now: [[0. 0. 0. ... 0. 0. 0.]\n",
      " [0. 0. 0. ... 0. 0. 0.]\n",
      " [0. 0. 0. ... 0. 0. 0.]\n",
      " ...\n",
      " [0. 0. 0. ... 0. 0. 0.]\n",
      " [0. 0. 0. ... 0. 0. 0.]\n",
      " [0. 0. 0. ... 0. 0. 0.]]\n"
     ]
    }
   ],
   "source": [
    "t = 5\n",
    "for i in range(t-1):\n",
    "    nemo.project({'STIM':[\"A\"]}, {}, verbose=2)"
   ]
  },
  {
   "cell_type": "code",
   "execution_count": null,
   "id": "518c76a7-7330-4a4c-925e-37a05714e1d3",
   "metadata": {},
   "outputs": [],
   "source": []
  },
  {
   "cell_type": "code",
   "execution_count": 63,
   "id": "5b7c610e-a1fe-4d9e-ba84-5a3799d96102",
   "metadata": {},
   "outputs": [
    {
     "data": {
      "text/plain": [
       "array([1., 0., 0., ..., 0., 2., 0.], dtype=float32)"
      ]
     },
     "execution_count": 63,
     "metadata": {},
     "output_type": "execute_result"
    }
   ],
   "source": [
    "Wsa = nemo.connectomes_by_stimulus['STIM']['A']\n",
    "\n",
    "Wsa"
   ]
  },
  {
   "cell_type": "code",
   "execution_count": 64,
   "id": "b136931e-9a58-40b8-bb81-f4e94245d034",
   "metadata": {},
   "outputs": [
    {
     "data": {
      "text/plain": [
       "array([9.30797  , 7.756641 , 7.756641 , 6.2053127, 6.2053127, 6.2053127,\n",
       "       6.2053127, 6.2053127, 6.2053127, 6.2053127, 6.2053127, 6.2053127,\n",
       "       6.2053127, 6.2053127, 6.2053127, 6.2053127, 6.2053127, 6.2053127,\n",
       "       6.2053127, 4.653985 , 4.653985 , 4.653985 , 4.653985 , 4.653985 ,\n",
       "       4.653985 , 4.653985 , 4.653985 , 4.653985 , 4.653985 , 4.653985 ,\n",
       "       4.653985 , 4.653985 , 4.653985 , 4.653985 , 4.653985 , 4.653985 ,\n",
       "       4.653985 , 4.653985 , 4.653985 , 4.653985 , 4.653985 , 4.653985 ,\n",
       "       4.653985 , 4.653985 , 4.653985 , 4.653985 , 4.653985 , 4.653985 ,\n",
       "       4.653985 , 4.653985 ], dtype=float32)"
      ]
     },
     "execution_count": 64,
     "metadata": {},
     "output_type": "execute_result"
    }
   ],
   "source": [
    "Wsa[assembly]"
   ]
  },
  {
   "cell_type": "code",
   "execution_count": 70,
   "id": "a6bdb01c-7884-491c-a723-40c659932fe8",
   "metadata": {},
   "outputs": [
    {
     "data": {
      "text/plain": [
       "0"
      ]
     },
     "execution_count": 70,
     "metadata": {},
     "output_type": "execute_result"
    }
   ],
   "source": [
    "asdf = 0\n",
    "for i in np.argsort(Wsa)[-50:]:\n",
    "    asdf += int(i not in assembly)\n",
    "asdf"
   ]
  },
  {
   "cell_type": "code",
   "execution_count": 68,
   "id": "4f9dcdd9-5074-4cac-b7c2-177bd6904d91",
   "metadata": {},
   "outputs": [
    {
     "data": {
      "text/plain": [
       "[6138,\n",
       " 5448,\n",
       " 9960,\n",
       " 530,\n",
       " 2305,\n",
       " 2640,\n",
       " 3217,\n",
       " 3390,\n",
       " 3416,\n",
       " 3587,\n",
       " 3913,\n",
       " 3928,\n",
       " 6376,\n",
       " 6528,\n",
       " 6756,\n",
       " 6983,\n",
       " 7082,\n",
       " 8665,\n",
       " 9980,\n",
       " 26,\n",
       " 77,\n",
       " 171,\n",
       " 239,\n",
       " 252,\n",
       " 308,\n",
       " 349,\n",
       " 405,\n",
       " 736,\n",
       " 745,\n",
       " 762,\n",
       " 799,\n",
       " 812,\n",
       " 1132,\n",
       " 1287,\n",
       " 1329,\n",
       " 1378,\n",
       " 1395,\n",
       " 1422,\n",
       " 1454,\n",
       " 1462,\n",
       " 1709,\n",
       " 1753,\n",
       " 1878,\n",
       " 1919,\n",
       " 1921,\n",
       " 2065,\n",
       " 2123,\n",
       " 2140,\n",
       " 2214,\n",
       " 2283]"
      ]
     },
     "execution_count": 68,
     "metadata": {},
     "output_type": "execute_result"
    }
   ],
   "source": [
    "assembly"
   ]
  },
  {
   "cell_type": "code",
   "execution_count": 61,
   "id": "0fc7461b-5ee0-45c9-b186-dc517b87d1bc",
   "metadata": {},
   "outputs": [
    {
     "data": {
      "text/plain": [
       "array([ True,  True,  True,  True,  True,  True,  True,  True,  True,\n",
       "        True,  True,  True,  True,  True,  True,  True,  True,  True,\n",
       "        True,  True,  True,  True,  True,  True,  True,  True,  True,\n",
       "        True,  True,  True,  True,  True,  True,  True,  True,  True,\n",
       "        True,  True,  True,  True,  True,  True,  True,  True,  True,\n",
       "        True,  True,  True,  True,  True])"
      ]
     },
     "execution_count": 61,
     "metadata": {},
     "output_type": "execute_result"
    }
   ],
   "source": [
    "np.array(nemo.area_by_name['A'].saved_winners[0]) == assembly"
   ]
  },
  {
   "cell_type": "code",
   "execution_count": 60,
   "id": "a04e8320-cfe5-45d2-9c21-e833af63f24c",
   "metadata": {},
   "outputs": [
    {
     "data": {
      "text/plain": [
       "list"
      ]
     },
     "execution_count": 60,
     "metadata": {},
     "output_type": "execute_result"
    }
   ],
   "source": [
    "nemo.area_by_name['A'].saved_winners[0])"
   ]
  },
  {
   "cell_type": "code",
   "execution_count": 41,
   "id": "2b020594-c96a-49c0-863a-e2b3e7a49fc9",
   "metadata": {},
   "outputs": [
    {
     "name": "stdout",
     "output_type": "stream",
     "text": [
      "At time 1, winners were [6138, 5448, 9960, 530, 2305, 2640, 3217, 3390, 3416, 3587, 3913, 3928, 6376, 6528, 6756, 6983, 7082, 8665, 9980, 26, 77, 171, 239, 252, 308, 349, 405, 736, 745, 762, 799, 812, 1132, 1287, 1329, 1378, 1395, 1422, 1454, 1462, 1709, 1753, 1878, 1919, 1921, 2065, 2123, 2140, 2214, 2283].\n",
      "\n",
      "\n",
      "At time 2, winners were [6138, 5448, 9960, 530, 2305, 2640, 3217, 3390, 3416, 3587, 3913, 3928, 6376, 6528, 6756, 6983, 7082, 8665, 9980, 26, 77, 171, 239, 252, 308, 349, 405, 736, 745, 762, 799, 812, 1132, 1287, 1329, 1378, 1395, 1422, 1454, 1462, 1709, 1753, 1878, 1919, 1921, 2065, 2123, 2140, 2214, 2283].\n",
      "\n",
      "\n",
      "At time 3, winners were [6138, 5448, 9960, 530, 2305, 2640, 3217, 3390, 3416, 3587, 3913, 3928, 6376, 6528, 6756, 6983, 7082, 8665, 9980, 26, 77, 171, 239, 252, 308, 349, 405, 736, 745, 762, 799, 812, 1132, 1287, 1329, 1378, 1395, 1422, 1454, 1462, 1709, 1753, 1878, 1919, 1921, 2065, 2123, 2140, 2214, 2283].\n",
      "\n",
      "\n",
      "At time 4, winners were [6138, 5448, 9960, 530, 2305, 2640, 3217, 3390, 3416, 3587, 3913, 3928, 6376, 6528, 6756, 6983, 7082, 8665, 9980, 26, 77, 171, 239, 252, 308, 349, 405, 736, 745, 762, 799, 812, 1132, 1287, 1329, 1378, 1395, 1422, 1454, 1462, 1709, 1753, 1878, 1919, 1921, 2065, 2123, 2140, 2214, 2283].\n",
      "\n",
      "\n",
      "At time 5, winners were [6138, 5448, 9960, 530, 2305, 2640, 3217, 3390, 3416, 3587, 3913, 3928, 6376, 6528, 6756, 6983, 7082, 8665, 9980, 26, 77, 171, 239, 252, 308, 349, 405, 736, 745, 762, 799, 812, 1132, 1287, 1329, 1378, 1395, 1422, 1454, 1462, 1709, 1753, 1878, 1919, 1921, 2065, 2123, 2140, 2214, 2283].\n",
      "\n",
      "\n",
      "At time 6, winners were [6138, 5448, 9960, 530, 2305, 2640, 3217, 3390, 3416, 3587, 3913, 3928, 6376, 6528, 6756, 6983, 7082, 8665, 9980, 26, 77, 171, 239, 252, 308, 349, 405, 736, 745, 762, 799, 812, 1132, 1287, 1329, 1378, 1395, 1422, 1454, 1462, 1709, 1753, 1878, 1919, 1921, 2065, 2123, 2140, 2214, 2283].\n",
      "\n",
      "\n",
      "At time 7, winners were [6138, 5448, 9960, 530, 2305, 2640, 3217, 3390, 3416, 3587, 3913, 3928, 6376, 6528, 6756, 6983, 7082, 8665, 9980, 26, 77, 171, 239, 252, 308, 349, 405, 736, 745, 762, 799, 812, 1132, 1287, 1329, 1378, 1395, 1422, 1454, 1462, 1709, 1753, 1878, 1919, 1921, 2065, 2123, 2140, 2214, 2283].\n",
      "\n",
      "\n",
      "At time 8, winners were [6138, 5448, 9960, 530, 2305, 2640, 3217, 3390, 3416, 3587, 3913, 3928, 6376, 6528, 6756, 6983, 7082, 8665, 9980, 26, 77, 171, 239, 252, 308, 349, 405, 736, 745, 762, 799, 812, 1132, 1287, 1329, 1378, 1395, 1422, 1454, 1462, 1709, 1753, 1878, 1919, 1921, 2065, 2123, 2140, 2214, 2283].\n",
      "\n",
      "\n",
      "At time 9, winners were [6138, 5448, 9960, 530, 2305, 2640, 3217, 3390, 3416, 3587, 3913, 3928, 6376, 6528, 6756, 6983, 7082, 8665, 9980, 26, 77, 171, 239, 252, 308, 349, 405, 736, 745, 762, 799, 812, 1132, 1287, 1329, 1378, 1395, 1422, 1454, 1462, 1709, 1753, 1878, 1919, 1921, 2065, 2123, 2140, 2214, 2283].\n",
      "\n",
      "\n"
     ]
    }
   ],
   "source": [
    "for t, winners in enumerate(nemo.area_by_name['A'].saved_winners):\n",
    "    print(f\"At time {t+1}, winners were {winners}.\\n\\n\")"
   ]
  },
  {
   "cell_type": "code",
   "execution_count": 55,
   "id": "017607bc-fc93-42ca-8562-63074db13d03",
   "metadata": {},
   "outputs": [],
   "source": [
    "def d(a1, a2):\n",
    "    return np.sum(np.array(a1) != np.array(a2))\n",
    "\n",
    "diff = []\n",
    "assembly = nemo.area_by_name['A'].saved_winners[-1]\n",
    "for a in nemo.area_by_name['A'].saved_winners:\n",
    "    diff.append(d(a, assembly))"
   ]
  },
  {
   "cell_type": "code",
   "execution_count": 57,
   "id": "0b74a8c6-1992-4e67-bad4-1af32454abc4",
   "metadata": {},
   "outputs": [
    {
     "data": {
      "image/png": "[encoded data removed]",
      "text/plain": [
       "<Figure size 640x480 with 1 Axes>"
      ]
     },
     "metadata": {},
     "output_type": "display_data"
    }
   ],
   "source": [
    "plt.plot(diff)\n",
    "plt.show()"
   ]
  },
  {
   "cell_type": "markdown",
   "id": "1de4ffc1-e351-4f04-98a8-0855de85c406",
   "metadata": {},
   "source": [
    "### Projecting assembly into B as well "
   ]
  },
  {
   "cell_type": "code",
   "execution_count": 81,
   "id": "4a9a049b-4067-4ffb-8828-7104be5f576c",
   "metadata": {},
   "outputs": [],
   "source": [
    "N = 10000\n",
    "k = 50\n",
    "beta = 0.05\n",
    "p = 0.01 "
   ]
  },
  {
   "cell_type": "code",
   "execution_count": 82,
   "id": "b04023a2-967d-4b19-977d-6db4cf3be491",
   "metadata": {},
   "outputs": [],
   "source": [
    "nemo = brain.Brain(p, save_winners=True)\n",
    "\n",
    "nemo.add_stimulus(stimulus_name = 'STIM', size = k)\n",
    "nemo.add_explicit_area(\"A\", N, k, beta)\n",
    "nemo.add_explicit_area(\"B\", N, k, beta)"
   ]
  },
  {
   "cell_type": "code",
   "execution_count": 83,
   "id": "8510b96f-4efe-4b96-94a1-1d3c855ddf31",
   "metadata": {},
   "outputs": [],
   "source": [
    "t = 5\n",
    "for i in range(t):\n",
    "    nemo.project({'STIM':[\"A\"]}, {})\n",
    "    if(t > 0):\n",
    "        nemo.project({'STIM':[\"A\"]}, {\"A\":[\"B\"]})"
   ]
  },
  {
   "cell_type": "code",
   "execution_count": 84,
   "id": "7fc192d4-be6e-4699-a7ab-daa51d096ad3",
   "metadata": {},
   "outputs": [],
   "source": [
    "sA = np.array(nemo.area_by_name['A'].winners)\n",
    "sB = np.array(nemo.area_by_name['B'].winners)"
   ]
  },
  {
   "cell_type": "code",
   "execution_count": 169,
   "id": "11d1a02f-c9a6-47d0-bbc3-40eb374fdfab",
   "metadata": {},
   "outputs": [],
   "source": [
    "def diff(a, b):\n",
    "    # Count occurrences of each element in both arrays\n",
    "    count1 = collections.Counter(a)\n",
    "    count2 = collections.Counter(b)\n",
    "    # Calculate the difference in counts for each unique element\n",
    "    total_diff = 0\n",
    "    all_keys = set(count1.keys()).union(count2.keys())\n",
    "    for key in all_keys:\n",
    "        total_diff += abs(count1[key] - count2[key])\n",
    "    \n",
    "    return total_diff"
   ]
  },
  {
   "cell_type": "code",
   "execution_count": 92,
   "id": "931c5110-7d5b-427b-b464-12879d19eec1",
   "metadata": {},
   "outputs": [
    {
     "name": "stdout",
     "output_type": "stream",
     "text": [
      "0\n",
      "0\n",
      "0\n",
      "0\n",
      "0\n",
      "0\n",
      "0\n",
      "0\n",
      "0\n",
      "0\n"
     ]
    }
   ],
   "source": [
    "for wA in nemo.area_by_name['A'].saved_winners:\n",
    "    print(similar(wA, sA))"
   ]
  },
  {
   "cell_type": "code",
   "execution_count": 93,
   "id": "5dceb502-55a6-4c05-b1c8-b01d8f63eaef",
   "metadata": {},
   "outputs": [
    {
     "name": "stdout",
     "output_type": "stream",
     "text": [
      "0\n",
      "0\n",
      "0\n",
      "0\n",
      "0\n"
     ]
    }
   ],
   "source": [
    "for wB in nemo.area_by_name['B'].saved_winners:\n",
    "    print(similar(wB, sB))"
   ]
  },
  {
   "cell_type": "markdown",
   "id": "270d0d64-f3a6-4411-ac41-c583117b31e5",
   "metadata": {},
   "source": [
    "## Recreating Assembly Projection in Nengo"
   ]
  },
  {
   "cell_type": "code",
   "execution_count": 110,
   "id": "443571ba-e8be-4a52-a2a6-fb627e99054a",
   "metadata": {},
   "outputs": [],
   "source": [
    "import nengo\n",
    "from nengo.dists import Uniform, ScatteredHypersphere\n",
    "from nengo.processes import WhiteSignal\n",
    "from nengo.utils.ensemble import tuning_curves\n",
    "from nengo.utils.ipython import hide_input\n",
    "from nengo.utils.matplotlib import rasterplot\n"
   ]
  },
  {
   "cell_type": "code",
   "execution_count": 212,
   "id": "c6018a13-21be-4a47-ada2-7ed51867671d",
   "metadata": {},
   "outputs": [],
   "source": [
    "N = 100\n",
    "k = 5\n",
    "beta = 0.05\n",
    "p = 0.01 \n"
   ]
  },
  {
   "cell_type": "code",
   "execution_count": 213,
   "id": "5b9abe9e-9cb9-4e8d-92dc-460d849fa81b",
   "metadata": {},
   "outputs": [
    {
     "name": "stdout",
     "output_type": "stream",
     "text": [
      "Projecting STIM  and  into A\n",
      "Projecting STIM  and  into A\n",
      "Projecting   and A into B\n",
      "Projecting STIM  and  into A\n",
      "Projecting STIM  and  into A\n",
      "Projecting   and A into B\n",
      "Projecting STIM  and  into A\n",
      "Projecting STIM  and  into A\n",
      "Projecting   and A into B\n"
     ]
    }
   ],
   "source": [
    "nemo = brain.Brain(p, save_winners=True)\n",
    "\n",
    "nemo.add_stimulus(stimulus_name = 'STIM', size = k)\n",
    "nemo.add_explicit_area(\"A\", N, k, beta)\n",
    "nemo.add_explicit_area(\"B\", N, k, beta)\n",
    "\n",
    "t = 3\n",
    "for i in range(t):\n",
    "    nemo.project({'STIM':[\"A\"]}, {}, verbose=1)\n",
    "    if(t > 0):\n",
    "        nemo.project({'STIM':[\"A\"]}, {\"A\":[\"B\"]}, verbose=1)"
   ]
  },
  {
   "cell_type": "code",
   "execution_count": 214,
   "id": "f6e46b3a-1c39-4c85-b609-b1ba161e1744",
   "metadata": {},
   "outputs": [],
   "source": [
    "sA = np.array(nemo.area_by_name['A'].winners)\n",
    "sB = np.array(nemo.area_by_name['B'].winners)"
   ]
  },
  {
   "cell_type": "code",
   "execution_count": 215,
   "id": "353d514a-86bd-421d-8e5e-3322d974d2c9",
   "metadata": {},
   "outputs": [
    {
     "name": "stdout",
     "output_type": "stream",
     "text": [
      "0\n",
      "0\n",
      "0\n",
      "0\n",
      "0\n",
      "0\n"
     ]
    }
   ],
   "source": [
    "for wA in nemo.area_by_name['A'].saved_winners:\n",
    "    print(diff(wA, sA))"
   ]
  },
  {
   "cell_type": "code",
   "execution_count": 216,
   "id": "be21db9d-51de-4428-8cb0-f7dc13a03bfc",
   "metadata": {},
   "outputs": [
    {
     "name": "stdout",
     "output_type": "stream",
     "text": [
      "0\n",
      "0\n",
      "0\n"
     ]
    }
   ],
   "source": [
    "for wB in nemo.area_by_name['B'].saved_winners:\n",
    "    print(diff(wB, sB))"
   ]
  },
  {
   "cell_type": "markdown",
   "id": "fbde6224-563d-449e-ae76-542d8c015aaa",
   "metadata": {},
   "source": [
    "### Converting sparse binary vectors into Nengo values $\\in \\mathbb{R}^k$ \n",
    "\n",
    "- Each neuron has its own encoding vector or distribution, which specifies its tuning curve (what input current sets it firing) \n",
    "- As referenced in [NEF](https://compneuro.uwaterloo.ca/files/publications/stewart.2012d.pdf), value of activity vector is $$\\vec{r} = G(\\alpha E \\cdot \\vec{x} + \\vec{b})$$\n",
    "- In our case, $x$ represents the sparse binary vector (i.e. the activation of a specific Hebbian Assembly"
   ]
  },
  {
   "cell_type": "code",
   "execution_count": 217,
   "id": "772c96d7-a071-4759-88ce-eba440a09aee",
   "metadata": {},
   "outputs": [],
   "source": [
    "def aligned(n_neurons, radius=0.9):\n",
    "    intercepts = np.linspace(-radius, radius, n_neurons)\n",
    "    encoders = np.tile([[1], [-1]], (n_neurons // 2, 1))\n",
    "    intercepts *= encoders[:, 0]\n",
    "    return intercepts, encoders\n",
    "\n",
    "def generate_encoders(N, k, rad=1.0, method='ScatteredHypersphere'):\n",
    "    intercepts = Uniform(-1.0, 0.9)\n",
    "    match method.lower():\n",
    "        case \"scatteredhypersphere\":\n",
    "            dist = ScatteredHypersphere(surface=True)\n",
    "            encoders = dist.sample(N,k)\n",
    "        case \"gaussian\":\n",
    "            encoders = np.random.randn(N, k)\n",
    "    return(intercepts, encoders)"
   ]
  },
  {
   "cell_type": "code",
   "execution_count": 237,
   "id": "abdfbe38-479c-4091-8cfb-33902f54458b",
   "metadata": {},
   "outputs": [
    {
     "data": {
      "text/plain": [
       "(array([26, 27, 73, 77, 91]), array([35,  0,  1,  2,  3]))"
      ]
     },
     "execution_count": 237,
     "metadata": {},
     "output_type": "execute_result"
    }
   ],
   "source": [
    "sA, sB"
   ]
  },
  {
   "cell_type": "markdown",
   "id": "9e17024b-925c-4cc9-a6df-897a1036c1a5",
   "metadata": {},
   "source": [
    "- add non-linearity G? \n",
    "- learn rB? "
   ]
  },
  {
   "cell_type": "code",
   "execution_count": 238,
   "id": "24af3f99-c721-4c93-ba4c-f35dfb49694e",
   "metadata": {},
   "outputs": [
    {
     "data": {
      "text/plain": [
       "(array([-0.18441255,  0.80393498, -0.44385205, -0.87598917,  1.6030627 ]),\n",
       " array([-1.28324044, -0.9094577 , -1.16372857, -0.99131396,  0.09529173]))"
      ]
     },
     "execution_count": 238,
     "metadata": {},
     "output_type": "execute_result"
    }
   ],
   "source": [
    "Ia, Ea = generate_encoders(N, k)\n",
    "Ib, Eb = generate_encoders(N, k)\n",
    "\n",
    "rA = Ea[sA].sum(axis=0)\n",
    "rB = Eb[sB].sum(axis=0)\n",
    "\n",
    "rA, rB"
   ]
  },
  {
   "cell_type": "code",
   "execution_count": 250,
   "id": "c907cca3-ea67-44a3-821e-2da58ef5fa69",
   "metadata": {},
   "outputs": [],
   "source": [
    "net = nengo.Network()\n",
    "with net: \n",
    "    node = nengo.Node(rA)\n",
    "    ensemble = nengo.Ensemble(N, k)\n",
    "    nengo.Connection(node, ensemble)\n",
    "    nop = nengo.Probe(node)\n",
    "    ep = nengo.Probe(ensemble)"
   ]
  },
  {
   "cell_type": "code",
   "execution_count": 276,
   "id": "c94387ae-a049-43e9-818f-8ebb65496a15",
   "metadata": {},
   "outputs": [],
   "source": [
    "net = nengo.Network()\n",
    "with net:\n",
    "    stim = nengo.Node(output=rA)\n",
    "    A = nengo.Ensemble(n_neurons=N, dimensions=k, encoders=Ea, intercepts=Ia, label='A')#, gain=np.diag(np.ones(N)), bias=np.zeros(N))\n",
    "    B = nengo.Ensemble(n_neurons=N, dimensions=k, encoders=Eb, intercepts=Ib, label='B')\n",
    "    nengo.Connection(stim, A)\n",
    "    conn = nengo.Connection(A, B, function=lambda x:np.random.random(k))\n",
    "\n",
    "    stim_p = nengo.Probe(stim)\n",
    "    A_p = nengo.Probe(A)\n",
    "    B_p = nengo.Probe(B, synapse=0.01)"
   ]
  },
  {
   "cell_type": "code",
   "execution_count": 299,
   "id": "aff72b4a-e8ac-4d7d-a1c1-a5f11be4babd",
   "metadata": {},
   "outputs": [],
   "source": [
    "with net:\n",
    "    target = nengo.Node(output=rB)\n",
    "    error = nengo.Ensemble(N, k)\n",
    "    error_p = nengo.Probe(error, synapse=0.03)\n",
    "    # Error = actual - target = B - rB\n",
    "    nengo.Connection(B, error)\n",
    "    nengo.Connection(target, error, transform=-1)\n",
    "\n",
    "    # Add the learning rule to the connection\n",
    "    conn.learning_rule_type = nengo.PES()\n",
    "\n",
    "    # Connect the error into the learning rule\n",
    "    nengo.Connection(error, conn.learning_rule)\n",
    "    target_p = nengo.Probe(target)"
   ]
  },
  {
   "cell_type": "code",
   "execution_count": 300,
   "id": "e932eb16-c150-4a99-95e0-a06c5abdaa9e",
   "metadata": {
    "scrolled": true
   },
   "outputs": [
    {
     "data": {
      "application/vdom.v1+json": {
       "attributes": {},
       "tagName": "div"
      },
      "text/html": [
       "\n",
       "                <script>\n",
       "                    if (Jupyter.version.split(\".\")[0] < 5) {\n",
       "                        var pb = document.getElementById(\"ff01b654-bd16-4560-b966-f423409e6f1a\");\n",
       "                        var text = document.createTextNode(\n",
       "                            \"HTML progress bar requires Jupyter Notebook >= \" +\n",
       "                            \"5.0 or Jupyter Lab. Alternatively, you can use \" +\n",
       "                            \"TerminalProgressBar().\");\n",
       "                        pb.parentNode.insertBefore(text, pb);\n",
       "                    }\n",
       "                </script>\n",
       "                <div id=\"ff01b654-bd16-4560-b966-f423409e6f1a\" style=\"\n",
       "                    width: 100%;\n",
       "                    border: 1px solid #cfcfcf;\n",
       "                    border-radius: 4px;\n",
       "                    text-align: center;\n",
       "                    position: relative;\">\n",
       "                  <div class=\"pb-text\" style=\"\n",
       "                      position: absolute;\n",
       "                      width: 100%;\">\n",
       "                    0%\n",
       "                  </div>\n",
       "                  <div class=\"pb-fill\" style=\"\n",
       "                      background-color: #bdd2e6;\n",
       "                      width: 0%;\">\n",
       "                    <style type=\"text/css\" scoped=\"scoped\">\n",
       "                        @keyframes pb-fill-anim {\n",
       "                            0% { background-position: 0 0; }\n",
       "                            100% { background-position: 100px 0; }\n",
       "                        }\n",
       "                    </style>\n",
       "                    &nbsp;\n",
       "                  </div>\n",
       "                </div>"
      ],
      "text/plain": [
       "HtmlProgressBar cannot be displayed. Please use the TerminalProgressBar. It can be enabled with `nengo.rc['progress']['progress_bar'] = 'nengo.utils.progress.TerminalProgressBar'`."
      ]
     },
     "metadata": {},
     "output_type": "display_data"
    },
    {
     "data": {
      "application/vdom.v1+json": {
       "attributes": {
        "id": "7a2afab2-1342-40e0-946c-4580b228653d",
        "style": {
         "border": "1px solid #cfcfcf",
         "borderRadius": "4px",
         "boxSizing": "border-box",
         "position": "relative",
         "textAlign": "center",
         "width": "100%"
        }
       },
       "children": [
        {
         "attributes": {
          "class": "pb-text",
          "style": {
           "position": "absolute",
           "width": "100%"
          }
         },
         "children": [
          "Build finished in 0:00:02."
         ],
         "tagName": "div"
        },
        {
         "attributes": {
          "class": "pb-fill",
          "style": {
           "animation": "none",
           "backgroundColor": "#bdd2e6",
           "backgroundImage": "none",
           "backgroundSize": "100px 100%",
           "width": "100%"
          }
         },
         "children": [
          {
           "attributes": {
            "scoped": "scoped",
            "type": "text/css"
           },
           "children": [
            "\n                        @keyframes pb-fill-anim {\n                            0% { background-position: 0 0; }\n                            100% { background-position: 100px 0; }\n                        }}"
           ],
           "tagName": "style"
          },
          " "
         ],
         "tagName": "div"
        }
       ],
       "tagName": "div"
      },
      "text/html": [
       "<script>\n",
       "              (function () {\n",
       "                  var root = document.getElementById('ff01b654-bd16-4560-b966-f423409e6f1a');\n",
       "                  var text = root.getElementsByClassName('pb-text')[0];\n",
       "                  var fill = root.getElementsByClassName('pb-fill')[0];\n",
       "\n",
       "                  text.innerHTML = 'Build finished in 0:00:02.';\n",
       "                  \n",
       "            fill.style.width = '100%';\n",
       "            fill.style.animation = 'pb-fill-anim 2s linear infinite';\n",
       "            fill.style.backgroundSize = '100px 100%';\n",
       "            fill.style.backgroundImage = 'repeating-linear-gradient(' +\n",
       "                '90deg, #bdd2e6, #edf2f8 40%, #bdd2e6 80%, #bdd2e6)';\n",
       "        \n",
       "                  \n",
       "                fill.style.animation = 'none';\n",
       "                fill.style.backgroundImage = 'none';\n",
       "            \n",
       "              })();\n",
       "        </script>"
      ]
     },
     "metadata": {},
     "output_type": "display_data"
    },
    {
     "data": {
      "application/vdom.v1+json": {
       "attributes": {},
       "tagName": "div"
      },
      "text/html": [
       "\n",
       "                <script>\n",
       "                    if (Jupyter.version.split(\".\")[0] < 5) {\n",
       "                        var pb = document.getElementById(\"a137bcc8-6cfa-474a-a8e6-f0ee78febac0\");\n",
       "                        var text = document.createTextNode(\n",
       "                            \"HTML progress bar requires Jupyter Notebook >= \" +\n",
       "                            \"5.0 or Jupyter Lab. Alternatively, you can use \" +\n",
       "                            \"TerminalProgressBar().\");\n",
       "                        pb.parentNode.insertBefore(text, pb);\n",
       "                    }\n",
       "                </script>\n",
       "                <div id=\"a137bcc8-6cfa-474a-a8e6-f0ee78febac0\" style=\"\n",
       "                    width: 100%;\n",
       "                    border: 1px solid #cfcfcf;\n",
       "                    border-radius: 4px;\n",
       "                    text-align: center;\n",
       "                    position: relative;\">\n",
       "                  <div class=\"pb-text\" style=\"\n",
       "                      position: absolute;\n",
       "                      width: 100%;\">\n",
       "                    0%\n",
       "                  </div>\n",
       "                  <div class=\"pb-fill\" style=\"\n",
       "                      background-color: #bdd2e6;\n",
       "                      width: 0%;\">\n",
       "                    <style type=\"text/css\" scoped=\"scoped\">\n",
       "                        @keyframes pb-fill-anim {\n",
       "                            0% { background-position: 0 0; }\n",
       "                            100% { background-position: 100px 0; }\n",
       "                        }\n",
       "                    </style>\n",
       "                    &nbsp;\n",
       "                  </div>\n",
       "                </div>"
      ],
      "text/plain": [
       "HtmlProgressBar cannot be displayed. Please use the TerminalProgressBar. It can be enabled with `nengo.rc['progress']['progress_bar'] = 'nengo.utils.progress.TerminalProgressBar'`."
      ]
     },
     "metadata": {},
     "output_type": "display_data"
    },
    {
     "data": {
      "application/vdom.v1+json": {
       "attributes": {
        "id": "623a1d79-b5bc-418a-a5c7-aec6f39c5c47",
        "style": {
         "border": "1px solid #cfcfcf",
         "borderRadius": "4px",
         "boxSizing": "border-box",
         "position": "relative",
         "textAlign": "center",
         "width": "100%"
        }
       },
       "children": [
        {
         "attributes": {
          "class": "pb-text",
          "style": {
           "position": "absolute",
           "width": "100%"
          }
         },
         "children": [
          "Simulation finished in 0:00:04."
         ],
         "tagName": "div"
        },
        {
         "attributes": {
          "class": "pb-fill",
          "style": {
           "animation": "none",
           "backgroundColor": "#bdd2e6",
           "backgroundImage": "none",
           "transition": "width 0.1s linear",
           "width": "100%"
          }
         },
         "children": [
          {
           "attributes": {
            "scoped": "scoped",
            "type": "text/css"
           },
           "children": [
            "\n                        @keyframes pb-fill-anim {\n                            0% { background-position: 0 0; }\n                            100% { background-position: 100px 0; }\n                        }}"
           ],
           "tagName": "style"
          },
          " "
         ],
         "tagName": "div"
        }
       ],
       "tagName": "div"
      },
      "text/html": [
       "<script>\n",
       "              (function () {\n",
       "                  var root = document.getElementById('a137bcc8-6cfa-474a-a8e6-f0ee78febac0');\n",
       "                  var text = root.getElementsByClassName('pb-text')[0];\n",
       "                  var fill = root.getElementsByClassName('pb-fill')[0];\n",
       "\n",
       "                  text.innerHTML = 'Simulation finished in 0:00:04.';\n",
       "                  \n",
       "            if (100.0 > 0.) {\n",
       "                fill.style.transition = 'width 0.1s linear';\n",
       "            } else {\n",
       "                fill.style.transition = 'none';\n",
       "            }\n",
       "\n",
       "            fill.style.width = '100.0%';\n",
       "            fill.style.animation = 'none';\n",
       "            fill.style.backgroundImage = 'none'\n",
       "        \n",
       "                  \n",
       "                fill.style.animation = 'none';\n",
       "                fill.style.backgroundImage = 'none';\n",
       "            \n",
       "              })();\n",
       "        </script>"
      ]
     },
     "metadata": {},
     "output_type": "display_data"
    }
   ],
   "source": [
    "with nengo.Simulator(net) as sim:\n",
    "    sim.run(20.0)"
   ]
  },
  {
   "cell_type": "code",
   "execution_count": 321,
   "id": "b2b5bd87-b878-4094-a1fd-658971a46ccd",
   "metadata": {},
   "outputs": [
    {
     "data": {
      "image/png": "[encoded data removed]",
      "text/plain": [
       "<Figure size 1200x800 with 2 Axes>"
      ]
     },
     "metadata": {},
     "output_type": "display_data"
    }
   ],
   "source": [
    "plot_res(sim, [0, 1], dict(A=A_p, stim=stim_p, B=B_p, target=target_p), 20000, colors=\"blue orange r g\".split(), save=True)"
   ]
  },
  {
   "cell_type": "code",
   "execution_count": 281,
   "id": "352e80c0-6eac-4fff-b6fc-95f9f0d850f4",
   "metadata": {},
   "outputs": [
    {
     "data": {
      "text/plain": [
       "array([-0.9094577 ,  0.09529173])"
      ]
     },
     "execution_count": 281,
     "metadata": {},
     "output_type": "execute_result"
    }
   ],
   "source": [
    "rB[[1, 4]]"
   ]
  },
  {
   "cell_type": "code",
   "execution_count": 311,
   "id": "135383d4-4c9f-4b41-bedf-fd32b7157ce2",
   "metadata": {},
   "outputs": [],
   "source": [
    "def plot_res(sim, dims_to_observe, probes, last_t=20, colors=\"k b r g\".split(), save=False):\n",
    "    D = len(dims_to_observe)\n",
    "    plt.figure(figsize=(6*D, 8))\n",
    "    for i, d in enumerate(dims_to_observe):\n",
    "        plt.subplot(D, 1, i+1)\n",
    "        for i, (name, probe) in enumerate(probes.items()):\n",
    "            plt.plot(sim.trange()[-1*last_t:], sim.data[probe].T[d][-1*last_t:], c=colors[i], label=name)\n",
    "        plt.ylabel(f\"Dimension {d}\")\n",
    "        plt.legend(loc=\"best\")\n",
    "    plt.title(\"Learning To Project NEMO Assembly\")\n",
    "    if(save):\n",
    "        plt.savefig('nengo_project.png')\n",
    "    plt.show()"
   ]
  },
  {
   "cell_type": "code",
   "execution_count": 293,
   "id": "cf06d6e4-e87e-4f6a-9004-07a62c6648ef",
   "metadata": {},
   "outputs": [
    {
     "data": {
      "text/plain": [
       "dict_items([('stim', <Probe at 0x17fbe5b90 of 'output' of <Node (unlabeled) at 0x17fad6250>>), ('A', <Probe at 0x17fb28790 of 'decoded_output' of <Ensemble 'A'>>), ('B', <Probe at 0x17fbb2cd0 of 'decoded_output' of <Ensemble 'B'>>)])"
      ]
     },
     "execution_count": 293,
     "metadata": {},
     "output_type": "execute_result"
    }
   ],
   "source": [
    "dict(stim=stim_p, A=A_p, B=B_p).items()"
   ]
  },
  {
   "cell_type": "code",
   "execution_count": null,
   "id": "97e55d9f-4993-4f8f-89bd-723945871135",
   "metadata": {},
   "outputs": [],
   "source": []
  }
 ],
 "metadata": {
  "kernelspec": {
   "display_name": "Python 3 (ipykernel)",
   "language": "python",
   "name": "python3"
  },
  "language_info": {
   "codemirror_mode": {
    "name": "ipython",
    "version": 3
   },
   "file_extension": ".py",
   "mimetype": "text/x-python",
   "name": "python",
   "nbconvert_exporter": "python",
   "pygments_lexer": "ipython3",
   "version": "3.11.0"
  }
 },
 "nbformat": 4,
 "nbformat_minor": 5
}
